{
 "cells": [
  {
   "cell_type": "markdown",
   "id": "soviet-prototype",
   "metadata": {},
   "source": [
    "# Get Inputs"
   ]
  },
  {
   "cell_type": "code",
   "execution_count": 178,
   "id": "fixed-consumption",
   "metadata": {},
   "outputs": [],
   "source": [
    "#Independent variables\n",
    "import random\n",
    "import numpy as np\n",
    "input_set = np.array([[0,1,0],\n",
    "                      [0,0,1],\n",
    "                      [1,0,0],\n",
    "                      [1,1,0],\n",
    "                      [1,1,1],\n",
    "                      [0,1,1],\n",
    "                      [0,1,0]])#Dependent variable\n",
    "labels = np.array([[1,\n",
    "                    0,\n",
    "                    0,\n",
    "                    1,\n",
    "                    1,\n",
    "                    0,\n",
    "                    1]])\n",
    "labels = labels.reshape(7,1) #to convert labels to vector"
   ]
  },
  {
   "cell_type": "markdown",
   "id": "southwest-census",
   "metadata": {},
   "source": [
    "# Get Parameters"
   ]
  },
  {
   "cell_type": "code",
   "execution_count": 179,
   "id": "fantastic-chile",
   "metadata": {},
   "outputs": [
    {
     "name": "stdout",
     "output_type": "stream",
     "text": [
      "<class 'list'>\n"
     ]
    }
   ],
   "source": [
    "#Define Hyperparameters\n",
    "#considering no fractions\n",
    "np.random.seed(42)\n",
    "weights = np.round(np.random.rand(3,1) *100)\n",
    "bias= np.round(np.random.rand(1)*100)\n",
    "lr = [5,100] #learning rate\n",
    "print(type(lr))"
   ]
  },
  {
   "cell_type": "code",
   "execution_count": 180,
   "id": "judicial-quarter",
   "metadata": {},
   "outputs": [
    {
     "name": "stdout",
     "output_type": "stream",
     "text": [
      "[[ 77. 100.]\n",
      " [  2. 100.]\n",
      " [ 63. 100.]]\n",
      "[ 75. 100.]\n"
     ]
    }
   ],
   "source": [
    "weights = np.zeros((3,2))\n",
    "np.random.seed(10)\n",
    "for i in range(3):\n",
    "    weights[i][0] = np.round(np.random.rand(1)*100)\n",
    "    weights[i][1] = 100\n",
    "bias = np.zeros(2)\n",
    "bias[0] = np.round(np.random.rand(1)*100)\n",
    "bias[1] = 100 \n",
    "print(weights)\n",
    "print(bias)               "
   ]
  },
  {
   "cell_type": "code",
   "execution_count": 181,
   "id": "activated-timer",
   "metadata": {},
   "outputs": [],
   "source": [
    "# #multiplying inputs with weights in matrices \n",
    "# def addfrac(a,b,c,d,e,f):\n",
    "#     num = a*d*f + c*b*f+e*b*d\n",
    "#     den = b*d*f\n",
    "#     return num,den"
   ]
  },
  {
   "cell_type": "code",
   "execution_count": 182,
   "id": "violent-removal",
   "metadata": {},
   "outputs": [],
   "source": [
    "#define activation function\n",
    "# def sigmoid(x):\n",
    "#     return 1/(1+np.exp(-x))"
   ]
  },
  {
   "cell_type": "markdown",
   "id": "wound-explorer",
   "metadata": {},
   "source": [
    "# Define Sigmoid Function"
   ]
  },
  {
   "cell_type": "code",
   "execution_count": 183,
   "id": "pediatric-anger",
   "metadata": {},
   "outputs": [],
   "source": [
    "# taylor series works when x<1\n",
    "# Assumption based on values of x\n",
    "# need to check the bwlow formulas of taylor series one more time\n",
    "def sigmoidfrac(x,y):\n",
    "    if(x/y>=10):\n",
    "        num = 1; den = 1\n",
    "    elif((x/y)>=9 and (x/y)<10):\n",
    "        num = 99988; den = 100000\n",
    "    elif((x/y)>=8 and (x/y)<9):\n",
    "        num = 99966; den = 100000\n",
    "    elif((x/y)>=7 and (x/y)<8):\n",
    "        num = 99909; den = 100000\n",
    "    elif((x/y)>=6 and (x/y)<7):\n",
    "        num = 99753; den = 100000\n",
    "    elif((x/y)>=5 and (x/y)<6):\n",
    "        num = 99331; den = 100000\n",
    "    elif((x/y)>=1 and (x/y)<5):\n",
    "        q = int(x/y) \n",
    "        r = x%y\n",
    "        num= pow(19,q)*24*pow(y,4)\n",
    "        den= pow(19,q)*24*pow(y,4)+pow(7,q)*(24*pow(y,4)-24*r*pow(y,3)+12*pow(r,2)*pow(y,2)-4*y*pow(r,3)+pow(r,4))    \n",
    "    elif(x/y>-1 and x/y<1):\n",
    "        num= 24*pow(y,4)\n",
    "        den= 48*pow(y,4)-24*x*pow(y,3)+12*pow(x,2)*pow(y,2)-4*y*pow(x,3)+pow(x,4)   \n",
    "    elif(x/y>-6 and x/y<=-1):\n",
    "        q = int(x/y) \n",
    "        r = x%y\n",
    "        num = 24*pow(y,4)*pow(7,-q)\n",
    "        den = 24*pow(y,4)*pow(7,-q)+pow(19,-q)*(24*pow(y,4)+24*r*pow(y,3)+12*pow(r,2)*pow(y,2)+4*y*pow(r,3)+pow(r,4))\n",
    "    elif(x/y>-7 and x/y<=-6):\n",
    "        num =15; den= 10000 \n",
    "    elif(x/y>-8 and x/y<=-7):\n",
    "        num =6; den = 10000     \n",
    "    elif(x/y>-9 and x/y<=-8):\n",
    "        num =2; den = 10000 \n",
    "    elif(x/y>-10 and x/y<=-9):\n",
    "         num = 7; den = 100000\n",
    "    elif(x/y<=-10):\n",
    "         num =0 ; den =1\n",
    "    return num,den"
   ]
  },
  {
   "cell_type": "code",
   "execution_count": 184,
   "id": "deluxe-canvas",
   "metadata": {},
   "outputs": [],
   "source": [
    "# Python Program to find the L.C.M. of two input number\n",
    "def compute_lcm(x, y):\n",
    "   # choose the greater number\n",
    "   if x > y:\n",
    "       greater = x\n",
    "   else:\n",
    "       greater = y\n",
    "   while(True):\n",
    "       if((greater % x == 0) and (greater % y == 0)):\n",
    "           lcm = greater\n",
    "           break\n",
    "       greater += 1\n",
    "   return lcm"
   ]
  },
  {
   "cell_type": "code",
   "execution_count": 185,
   "id": "another-ozone",
   "metadata": {},
   "outputs": [],
   "source": [
    "# define derivative\n",
    "def sigmoid_derivative(x,y):\n",
    "    num = x*y-pow(x,2)\n",
    "    den = pow(y,2)\n",
    "    return num,den"
   ]
  },
  {
   "cell_type": "code",
   "execution_count": 186,
   "id": "departmental-minnesota",
   "metadata": {},
   "outputs": [],
   "source": [
    "#adding num and den version of the form a/b and c/d\n",
    "def addition(a,b,c,d):\n",
    "    den = compute_lcm(b,d)\n",
    "    num = ((den/b)*a) + ((den/d)*c)\n",
    "#     print(num,den)\n",
    "    return float(num),float(den)\n",
    "        "
   ]
  },
  {
   "cell_type": "code",
   "execution_count": 187,
   "id": "neither-dragon",
   "metadata": {},
   "outputs": [],
   "source": [
    "def multiply_xwb(x,y,bn,bd):\n",
    "    t = np.zeros((7,2))\n",
    "    for i in range(x.shape[0]):\n",
    "        t1 = (x[i][0]*y[0][0])\n",
    "        t2 = y[0][1]\n",
    "        t3 = (x[i][1]*y[1][0])\n",
    "        t4 = y[1][1]\n",
    "        t1,t2 = addition(t1,t2,t3,t4)\n",
    "        t3 = (x[i][2]*y[2][0])\n",
    "        t4 = y[2][1]\n",
    "        t1,t2 = addition(t1,t2,t3,t4)\n",
    "        num,den = addition(t1,t2,bn,bd)\n",
    "        t[i][0]= float(num)\n",
    "        t[i][1]= float(den)\n",
    "    return t"
   ]
  },
  {
   "cell_type": "code",
   "execution_count": 188,
   "id": "intimate-revolution",
   "metadata": {},
   "outputs": [],
   "source": [
    "def subtraction(a,b,c,d):\n",
    "    den = compute_lcm(b,d)\n",
    "#     print(\"lcm is \",den)\n",
    "    num = ((den/b)*a) - ((den/d)*c)\n",
    "    return num,den"
   ]
  },
  {
   "cell_type": "code",
   "execution_count": 189,
   "id": "seeing-scheduling",
   "metadata": {},
   "outputs": [],
   "source": [
    "def multiply(a,b,c,d): # of the form a/b * c/d\n",
    "    num = a*c\n",
    "    den = b*d\n",
    "    return num,den"
   ]
  },
  {
   "cell_type": "code",
   "execution_count": 190,
   "id": "visible-humor",
   "metadata": {},
   "outputs": [],
   "source": [
    "import math\n",
    "def arraylcm(a):\n",
    "  lcm = a[0]\n",
    "  for i in range(1,len(a)):\n",
    "    lcm = lcm*a[i]//math.gcd(lcm, a[i])\n",
    "  return lcm"
   ]
  },
  {
   "cell_type": "code",
   "execution_count": 191,
   "id": "sweet-twins",
   "metadata": {},
   "outputs": [],
   "source": [
    "def mul_e_sd_i(x,y):\n",
    "    for i in range(x.shape[0]):\n",
    "        t1 = (x[i][0]*y[0][0])\n",
    "        t2 = y[0][1]\n",
    "        t3 = (x[i][1]*y[1][0])\n",
    "        t4 = y[1][1]\n",
    "        t1,t2 = addition(t1,t2,t3,t4)\n",
    "        t3 = (x[i][2]*y[2][0])\n",
    "        t4 = y[2][1]\n",
    "        t1,t2 = addition(t1,t2,t3,t4)\n",
    "        num,den = addition(t1,t2,bn,bd)\n",
    "        "
   ]
  },
  {
   "cell_type": "markdown",
   "id": "premier-lying",
   "metadata": {},
   "source": [
    "# Multiply weights with Inputs and add bias"
   ]
  },
  {
   "cell_type": "code",
   "execution_count": 192,
   "id": "distant-disaster",
   "metadata": {},
   "outputs": [],
   "source": [
    "#Multiply inputs into weights.\n",
    "XW = multiply_xwb(input_set,weights,bias[0],bias[1])\n",
    "# print(XW)"
   ]
  },
  {
   "cell_type": "code",
   "execution_count": 193,
   "id": "minimal-relief",
   "metadata": {},
   "outputs": [],
   "source": [
    "# print(\"printing dot product\",XW)"
   ]
  },
  {
   "cell_type": "code",
   "execution_count": 194,
   "id": "covered-lancaster",
   "metadata": {},
   "outputs": [],
   "source": [
    "# define derivative\n",
    "# def sigmoid_derivative(x):\n",
    "#     return (x*(100-x))"
   ]
  },
  {
   "cell_type": "markdown",
   "id": "quality-metropolitan",
   "metadata": {},
   "source": [
    "# Get Sigmoid outputs for XW"
   ]
  },
  {
   "cell_type": "code",
   "execution_count": 195,
   "id": "sticky-edinburgh",
   "metadata": {
    "scrolled": true
   },
   "outputs": [
    {
     "name": "stdout",
     "output_type": "stream",
     "text": [
      "[[240. 351.]\n",
      " [456. 570.]\n",
      " [456. 555.]\n",
      " [456. 553.]\n",
      " [866. 965.]\n",
      " [456. 568.]\n",
      " [240. 351.]]\n"
     ]
    }
   ],
   "source": [
    "# #get sigmoid derivative\n",
    "# z = sigmoidfrac(XW)  #sigmoid activation function\n",
    "def get_sigmoid(x):\n",
    "    z=np.zeros((7,2))\n",
    "    for i in range(x.shape[0]):\n",
    "        a,b = sigmoidfrac(x[i][0],x[i][1])\n",
    "        z[i][0] = int(str(a)[:3]) \n",
    "        z[i][1] = int(str(b)[:3])\n",
    "    return z \n",
    "z = get_sigmoid(XW)\n",
    "print(z)\n"
   ]
  },
  {
   "cell_type": "markdown",
   "id": "collectible-evans",
   "metadata": {},
   "source": [
    "# Calculating cost/error"
   ]
  },
  {
   "cell_type": "code",
   "execution_count": 196,
   "id": "metric-problem",
   "metadata": {
    "scrolled": true
   },
   "outputs": [
    {
     "name": "stdout",
     "output_type": "stream",
     "text": [
      "[[-111.  351.]\n",
      " [ 456.  570.]\n",
      " [ 456.  555.]\n",
      " [ -97.  553.]\n",
      " [ -99.  965.]\n",
      " [ 456.  568.]\n",
      " [-111.  351.]]\n"
     ]
    }
   ],
   "source": [
    "def cost(a,b):\n",
    "    c = np.zeros((7,2))\n",
    "    for i in range (a.shape[0]):\n",
    "        num,den = subtraction(a[i][0],a[i][1],b[i],1,)\n",
    "        c[i][0] = num\n",
    "        c[i][1] = den\n",
    "    return c\n",
    "error = cost(z,labels)\n",
    "print(error)"
   ]
  },
  {
   "cell_type": "markdown",
   "id": "imported-birth",
   "metadata": {},
   "source": [
    "# Get derivative of SD_Input"
   ]
  },
  {
   "cell_type": "code",
   "execution_count": 198,
   "id": "lightweight-shepherd",
   "metadata": {},
   "outputs": [
    {
     "name": "stdout",
     "output_type": "stream",
     "text": [
      "sigmoid derivative is  [[ 66976. 300304.]\n",
      " [ 28842. 134689.]\n",
      " [ 22927. 107584.]\n",
      " [ 22176. 104329.]\n",
      " [ 17680.  85849.]\n",
      " [ 28137. 131044.]\n",
      " [ 66976. 300304.]]\n"
     ]
    }
   ],
   "source": [
    "def get_SD(a):\n",
    "    b=np.zeros((7,2))\n",
    "    for i in range(a.shape[0]):\n",
    "        num,den = sigmoidfrac(a[i][0],a[i][1])\n",
    "        b[i][0] = int(str(num)[:3]) \n",
    "        b[i][1] = int(str(den)[:3])\n",
    "    c = np.zeros((7,2))\n",
    "    for i in range(7):\n",
    "        x,y = sigmoid_derivative(b[i][0], b[i][1])\n",
    "        c[i][0] =x\n",
    "        c[i][1] =y\n",
    "    return c\n",
    "SD = get_SD(z)\n",
    "print(\"sigmoid derivative is \",SD)"
   ]
  },
  {
   "cell_type": "markdown",
   "id": "ongoing-kitchen",
   "metadata": {},
   "source": [
    "# Calculate error multiplied to SD "
   ]
  },
  {
   "cell_type": "code",
   "execution_count": 147,
   "id": "informative-extra",
   "metadata": {},
   "outputs": [
    {
     "name": "stdout",
     "output_type": "stream",
     "text": [
      "[[ -705. 10000.]\n",
      " [ 1713. 10000.]\n",
      " [ 1750. 10000.]\n",
      " [ -372. 10000.]\n",
      " [ -211. 10000.]\n",
      " [ 1723. 10000.]\n",
      " [ -705. 10000.]]\n"
     ]
    }
   ],
   "source": [
    "# get error multiplied to SD\n",
    "def get_exsd(a,b):\n",
    "    c = np.zeros((7,2))\n",
    "    for i in range(len(a)):\n",
    "        num = a[i][0]*b[i][0]\n",
    "        den = a[i][1]*b[i][1]\n",
    "        c[i][0] = num \n",
    "        c[i][1] = den\n",
    "    d = np.zeros((7,2))\n",
    "    for i in range(len(a)):\n",
    "        d[i][0] = int((c[i][0]/c[i][1])*10000)\n",
    "        d[i][1] = 10000\n",
    "    return d\n",
    "res = get_exsd(error,SD)\n",
    "print(res)\n"
   ]
  },
  {
   "cell_type": "markdown",
   "id": "worse-psychiatry",
   "metadata": {},
   "source": [
    "# Calculate error * SD * Inputs *lr"
   ]
  },
  {
   "cell_type": "code",
   "execution_count": 149,
   "id": "tamil-strand",
   "metadata": {},
   "outputs": [
    {
     "name": "stdout",
     "output_type": "stream",
     "text": [
      "[[   5835. 1000000.]\n",
      " [  -1350. 1000000.]\n",
      " [  16125. 1000000.]]\n"
     ]
    }
   ],
   "source": [
    "def get_exsdxi(input_set,res,l):\n",
    "    inputs = input_set.T\n",
    "    b = np.zeros((3,2))\n",
    "    num = 0\n",
    "    den = 0\n",
    "    for j in range(inputs.shape[0]):\n",
    "        for i in range(res.shape[0]):\n",
    "            num = num+ inputs[j][i]*res[i][0]*l[0]\n",
    "            den = res[0][1]*l[1] \n",
    "        b[j][0] = num \n",
    "        b[j][1] = den \n",
    "        num=0\n",
    "        den=0\n",
    "    return b\n",
    "inp_res = get_exsdxi(input_set,res,lr)\n",
    "print(inp_res)"
   ]
  },
  {
   "cell_type": "markdown",
   "id": "positive-adaptation",
   "metadata": {},
   "source": [
    "# Get New Weights and Bias"
   ]
  },
  {
   "cell_type": "code",
   "execution_count": 150,
   "id": "cathedral-hometown",
   "metadata": {},
   "outputs": [
    {
     "name": "stdout",
     "output_type": "stream",
     "text": [
      "[[ 764165. 1000000.]\n",
      " [  21350. 1000000.]\n",
      " [ 613875. 1000000.]]\n"
     ]
    }
   ],
   "source": [
    "# Get new Weights\n",
    "# for i in range(len(weights)):\n",
    "#     num,den = subtraction(weights[i][0], weights[i][1], inp_res[i][0],inp_res[i][1])\n",
    "#     weights[i][0]= num\n",
    "#     weights[i][1] =den\n",
    "# weights\n",
    "\n",
    "def get_new_weight(a,b):\n",
    "    c = np.zeros((3,2))\n",
    "    for i in range(len(a)):\n",
    "        num,den = subtraction(a[i][0], a[i][1], b[i][0],b[i][1])\n",
    "        c[i][0]= num\n",
    "        c[i][1] =den\n",
    "    return c\n",
    "weights = get_new_weight(weights,inp_res)\n",
    "print(weights)"
   ]
  },
  {
   "cell_type": "code",
   "execution_count": 151,
   "id": "royal-sessions",
   "metadata": {},
   "outputs": [
    {
     "name": "stdout",
     "output_type": "stream",
     "text": [
      "[ 7340. 10000.]\n"
     ]
    }
   ],
   "source": [
    "#compute lr * l_res\n",
    "def get_new_bias(b,r,l):\n",
    "    bn= np.zeros((7,2))\n",
    "    for i in range(res.shape[0]):\n",
    "        r[i][0] =  r[i][0]*l[0]\n",
    "        r[i][1] =  r[i][1]*l[1]\n",
    "        bn[i][0] = int(r[i][0]/r[i][1] *10000)\n",
    "        bn[i][1] = 10000\n",
    "        num,den = subtraction(b[0],b[1], bn[i][0],bn[i][1])\n",
    "        b[0] = num\n",
    "        b[1] = den\n",
    "    return b\n",
    "\n",
    "bias = get_new_bias(bias,res,lr)\n",
    "print(bias)"
   ]
  },
  {
   "cell_type": "code",
   "execution_count": 152,
   "id": "hundred-drive",
   "metadata": {},
   "outputs": [],
   "source": []
  },
  {
   "cell_type": "code",
   "execution_count": 144,
   "id": "exterior-times",
   "metadata": {},
   "outputs": [],
   "source": [
    "# train ANN model and this accumulation of earlier step\n",
    "for epoch in range(10):\n",
    "    inputs = input_set  # set aside the original input\n",
    "    XW = np.dot(inputs, weights)+ bias  # dot product of input and add bias\n",
    "    #     print(\"printing dot product\",XW)\n",
    "#     z = sigmoid(XW)  #sigmoid activation function\n",
    "    z=np.zeros([7,1])\n",
    "    for i in range(7):\n",
    "        a = sigmoidfrac(XW[i])\n",
    "        z[i] = a\n",
    "    print (\"sigmoid output is:\",z )\n",
    "    print (\"sigmoid output is:\",z )\n",
    "    error = z - labels  #backprop step1\n",
    "    print (\"error is \",error)\n",
    "    print(\"error sum is\",error.sum())   #backpro step 2\n",
    "    dcost = error\n",
    "    dpred = sigmoid_derivative(z)\n",
    "    print(\"sigmoid derivative is \",dpred)\n",
    "    z_del = dcost * dpred\n",
    "    inputs = input_set.T\n",
    "    weights = weights - lr*np.dot(inputs, z_del)\n",
    "    \n",
    "    for num in z_del:\n",
    "        bias = bias - lr*num"
   ]
  },
  {
   "cell_type": "code",
   "execution_count": 145,
   "id": "administrative-corporation",
   "metadata": {},
   "outputs": [
    {
     "name": "stdout",
     "output_type": "stream",
     "text": [
      "(3, 7)\n",
      "(3, 2)\n"
     ]
    }
   ],
   "source": [
    "print(inputs.shape)\n",
    "print(weights.shape)\n"
   ]
  },
  {
   "cell_type": "markdown",
   "id": "sudden-precipitation",
   "metadata": {},
   "source": [
    "# Perform Prediction"
   ]
  },
  {
   "cell_type": "code",
   "execution_count": 146,
   "id": "distinguished-ferry",
   "metadata": {},
   "outputs": [
    {
     "name": "stdout",
     "output_type": "stream",
     "text": [
      "(3,)\n",
      "(2,)\n",
      "(3, 2)\n",
      "[29187187. 60010000.]\n"
     ]
    }
   ],
   "source": [
    "\n",
    "single_pt = np.array([30,20,10])\n",
    "input1 = np.dot(single_pt, weights) + bias\n",
    "print(single_pt.shape)\n",
    "print(input1.shape)\n",
    "print(weights.shape)\n",
    "print(input1)\n",
    "# num,den = sigmoidfrac()\n",
    "# print(num,den)"
   ]
  },
  {
   "cell_type": "code",
   "execution_count": 147,
   "id": "intense-integer",
   "metadata": {},
   "outputs": [
    {
     "ename": "TypeError",
     "evalue": "sigmoidfrac() missing 1 required positional argument: 'y'",
     "output_type": "error",
     "traceback": [
      "\u001b[1;31m---------------------------------------------------------------------------\u001b[0m",
      "\u001b[1;31mTypeError\u001b[0m                                 Traceback (most recent call last)",
      "\u001b[1;32m<ipython-input-147-e30d2da431e4>\u001b[0m in \u001b[0;36m<module>\u001b[1;34m\u001b[0m\n\u001b[0;32m      1\u001b[0m \u001b[0msingle_pt\u001b[0m \u001b[1;33m=\u001b[0m \u001b[0mnp\u001b[0m\u001b[1;33m.\u001b[0m\u001b[0marray\u001b[0m\u001b[1;33m(\u001b[0m\u001b[1;33m[\u001b[0m\u001b[1;36m30\u001b[0m\u001b[1;33m,\u001b[0m\u001b[1;36m30\u001b[0m\u001b[1;33m,\u001b[0m\u001b[1;36m20\u001b[0m\u001b[1;33m]\u001b[0m\u001b[1;33m)\u001b[0m\u001b[1;33m\u001b[0m\u001b[1;33m\u001b[0m\u001b[0m\n\u001b[1;32m----> 2\u001b[1;33m \u001b[0mnum1\u001b[0m\u001b[1;33m,\u001b[0m\u001b[0mden1\u001b[0m \u001b[1;33m=\u001b[0m \u001b[0msigmoidfrac\u001b[0m\u001b[1;33m(\u001b[0m\u001b[0minput1\u001b[0m\u001b[1;33m[\u001b[0m\u001b[1;36m0\u001b[0m\u001b[1;33m]\u001b[0m\u001b[1;33m)\u001b[0m\u001b[1;33m\u001b[0m\u001b[1;33m\u001b[0m\u001b[0m\n\u001b[0m\u001b[0;32m      3\u001b[0m \u001b[0mnum2\u001b[0m\u001b[1;33m,\u001b[0m\u001b[0mden2\u001b[0m \u001b[1;33m=\u001b[0m \u001b[0msigmoidfrac\u001b[0m\u001b[1;33m(\u001b[0m\u001b[0minput1\u001b[0m\u001b[1;33m[\u001b[0m\u001b[1;36m1\u001b[0m\u001b[1;33m]\u001b[0m\u001b[1;33m)\u001b[0m\u001b[1;33m\u001b[0m\u001b[1;33m\u001b[0m\u001b[0m\n\u001b[0;32m      4\u001b[0m \u001b[1;33m\u001b[0m\u001b[0m\n\u001b[0;32m      5\u001b[0m \u001b[0mprint\u001b[0m\u001b[1;33m(\u001b[0m\u001b[0mnum1\u001b[0m\u001b[1;33m,\u001b[0m\u001b[0mden1\u001b[0m\u001b[1;33m)\u001b[0m\u001b[1;33m\u001b[0m\u001b[1;33m\u001b[0m\u001b[0m\n",
      "\u001b[1;31mTypeError\u001b[0m: sigmoidfrac() missing 1 required positional argument: 'y'"
     ]
    }
   ],
   "source": [
    "single_pt = np.array([30,30,20])\n",
    "num1,den1 = sigmoidfrac(input1[0])\n",
    "num2,den2 = sigmoidfrac(input1[1])\n",
    "\n",
    "print(num1,den1)\n",
    "print(num2,den2)"
   ]
  },
  {
   "cell_type": "code",
   "execution_count": 148,
   "id": "complex-desire",
   "metadata": {},
   "outputs": [
    {
     "ename": "TypeError",
     "evalue": "sigmoidfrac() missing 1 required positional argument: 'y'",
     "output_type": "error",
     "traceback": [
      "\u001b[1;31m---------------------------------------------------------------------------\u001b[0m",
      "\u001b[1;31mTypeError\u001b[0m                                 Traceback (most recent call last)",
      "\u001b[1;32m<ipython-input-148-bac8f94d3934>\u001b[0m in \u001b[0;36m<module>\u001b[1;34m\u001b[0m\n\u001b[0;32m      1\u001b[0m \u001b[0msingle_pt\u001b[0m \u001b[1;33m=\u001b[0m \u001b[0mnp\u001b[0m\u001b[1;33m.\u001b[0m\u001b[0marray\u001b[0m\u001b[1;33m(\u001b[0m\u001b[1;33m[\u001b[0m\u001b[1;36m30\u001b[0m\u001b[1;33m,\u001b[0m\u001b[1;36m30\u001b[0m\u001b[1;33m,\u001b[0m\u001b[1;36m20\u001b[0m\u001b[1;33m]\u001b[0m\u001b[1;33m)\u001b[0m\u001b[1;33m\u001b[0m\u001b[1;33m\u001b[0m\u001b[0m\n\u001b[1;32m----> 2\u001b[1;33m \u001b[0mnum\u001b[0m\u001b[1;33m,\u001b[0m\u001b[0mden\u001b[0m \u001b[1;33m=\u001b[0m \u001b[0msigmoidfrac\u001b[0m\u001b[1;33m(\u001b[0m\u001b[0mnp\u001b[0m\u001b[1;33m.\u001b[0m\u001b[0mdot\u001b[0m\u001b[1;33m(\u001b[0m\u001b[0msingle_pt\u001b[0m\u001b[1;33m,\u001b[0m \u001b[0mweights\u001b[0m\u001b[1;33m)\u001b[0m \u001b[1;33m+\u001b[0m \u001b[0mbias\u001b[0m\u001b[1;33m)\u001b[0m\u001b[1;33m\u001b[0m\u001b[1;33m\u001b[0m\u001b[0m\n\u001b[0m\u001b[0;32m      3\u001b[0m \u001b[0mprint\u001b[0m\u001b[1;33m(\u001b[0m\u001b[0mnum\u001b[0m\u001b[1;33m,\u001b[0m\u001b[0mden\u001b[0m\u001b[1;33m)\u001b[0m\u001b[1;33m\u001b[0m\u001b[1;33m\u001b[0m\u001b[0m\n",
      "\u001b[1;31mTypeError\u001b[0m: sigmoidfrac() missing 1 required positional argument: 'y'"
     ]
    }
   ],
   "source": [
    "single_pt = np.array([30,30,20])\n",
    "num,den = sigmoidfrac(np.dot(single_pt, weights) + bias)\n",
    "print(num,den)"
   ]
  },
  {
   "cell_type": "code",
   "execution_count": null,
   "id": "fatty-immune",
   "metadata": {},
   "outputs": [],
   "source": []
  }
 ],
 "metadata": {
  "kernelspec": {
   "display_name": "Python 3",
   "language": "python",
   "name": "python3"
  },
  "language_info": {
   "codemirror_mode": {
    "name": "ipython",
    "version": 3
   },
   "file_extension": ".py",
   "mimetype": "text/x-python",
   "name": "python",
   "nbconvert_exporter": "python",
   "pygments_lexer": "ipython3",
   "version": "3.9.2"
  }
 },
 "nbformat": 4,
 "nbformat_minor": 5
}
