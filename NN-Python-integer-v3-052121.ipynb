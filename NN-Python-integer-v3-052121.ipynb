{
 "cells": [
  {
   "cell_type": "markdown",
   "id": "soviet-prototype",
   "metadata": {},
   "source": [
    "# Get Inputs"
   ]
  },
  {
   "cell_type": "code",
   "execution_count": 1,
   "id": "employed-omaha",
   "metadata": {},
   "outputs": [],
   "source": [
    "#Independent variables\n",
    "import numpy as np\n",
    "\n",
    "input_set = np.array([[10,20,10],\n",
    "                      [10,10,20],\n",
    "                      [20,15,15],\n",
    "                      [25,25,15],\n",
    "                      [24,24,28],\n",
    "                      [12,22,20],\n",
    "                      [8,18,10]])#Dependent variable\n",
    "labels = np.array([[20,\n",
    "                    10,\n",
    "                    10,\n",
    "                    20,\n",
    "                    20,\n",
    "                    10,\n",
    "                    20]])    # no need to scale, need original label\n",
    "labels = labels.reshape(7,1) #to convert labels to vector"
   ]
  },
  {
   "cell_type": "markdown",
   "id": "southwest-census",
   "metadata": {},
   "source": [
    "# Get Parameters"
   ]
  },
  {
   "cell_type": "code",
   "execution_count": 2,
   "id": "fantastic-chile",
   "metadata": {},
   "outputs": [
    {
     "name": "stdout",
     "output_type": "stream",
     "text": [
      "[[37.]\n",
      " [95.]\n",
      " [73.]]\n",
      "[60.]\n",
      "5\n"
     ]
    }
   ],
   "source": [
    "#Define Hyperparameters\n",
    "np.random.seed(42)\n",
    "weights = np.round(np.random.rand(3,1) *100)\n",
    "bias = np.round(np.random.rand(1) * 100)\n",
    "lr = 5 #learning rate\n",
    "print(weights)\n",
    "print(bias)\n",
    "print(lr)\n",
    "# weight need to have numerator and denominator"
   ]
  },
  {
   "cell_type": "code",
   "execution_count": 3,
   "id": "violent-removal",
   "metadata": {},
   "outputs": [],
   "source": [
    "#define activation function\n",
    "# def sigmoid(x):\n",
    "#     return 1/(1+np.exp(-x))"
   ]
  },
  {
   "cell_type": "markdown",
   "id": "wound-explorer",
   "metadata": {},
   "source": [
    "# Define Sigmoid Function"
   ]
  },
  {
   "cell_type": "code",
   "execution_count": 4,
   "id": "pediatric-anger",
   "metadata": {},
   "outputs": [],
   "source": [
    "# taylor series works when |x| <1\n",
    "def sigmoidfrac(x):\n",
    "#     num = 24*pow(x,4)+ 24*pow(x,3)+12*pow(x,2)+8*x+1\n",
    "#     den = 48*pow(x,4)+ 24*pow(x,3)+12*pow(x,2)+8*x+1        \n",
    "#     return num,den\n",
    "    if(x>=10):\n",
    "        num =1\n",
    "        den =1\n",
    "    elif(): #...till x = 1\n",
    "        num = 99999\n",
    "        den = 100000\n",
    "    elif(x>5 ) # continue till 0 then -1\n",
    "    \n",
    "    elif(x<-12):\n",
    "        num = 0\n",
    "        den = 1\n",
    "    else:\n",
    "        num = 24*pow(x,4)+ 24*pow(x,3)+12*pow(x,2)+8*x+1\n",
    "        den = 48*pow(x,4)+ 24*pow(x,3)+12*pow(x,2)+8*x+1\n",
    "        \n",
    "    return num,den\n",
    "\n"
   ]
  },
  {
   "cell_type": "code",
   "execution_count": 5,
   "id": "another-ozone",
   "metadata": {},
   "outputs": [],
   "source": [
    "#define derivative\n",
    "# def sigmoid_derivative(x):\n",
    "#     return sigmoidfrac(x)*(1-sigmoidfrac(x))"
   ]
  },
  {
   "cell_type": "markdown",
   "id": "premier-lying",
   "metadata": {},
   "source": [
    "# Multiply weights with Inputs and add bias"
   ]
  },
  {
   "cell_type": "code",
   "execution_count": 6,
   "id": "minimal-relief",
   "metadata": {},
   "outputs": [
    {
     "name": "stdout",
     "output_type": "stream",
     "text": [
      "printing dot product [[3060.]\n",
      " [2840.]\n",
      " [3320.]\n",
      " [4455.]\n",
      " [5272.]\n",
      " [4054.]\n",
      " [2796.]]\n"
     ]
    }
   ],
   "source": [
    "#multiply inputs\n",
    "inputs = input_set  # set aside the original input\n",
    "XW = np.dot(inputs, weights)+ bias  # dot product of input and add bias\n",
    "print(\"printing dot product\",XW)"
   ]
  },
  {
   "cell_type": "code",
   "execution_count": 7,
   "id": "covered-lancaster",
   "metadata": {},
   "outputs": [],
   "source": [
    "#define derivative\n",
    "# def sigmoid_derivative(x):\n",
    "#     return sigmoidfrac(x)*(1-sigmoidfrac(x))"
   ]
  },
  {
   "cell_type": "markdown",
   "id": "quality-metropolitan",
   "metadata": {},
   "source": [
    "# Get Sigmoid outputs"
   ]
  },
  {
   "cell_type": "code",
   "execution_count": 8,
   "id": "sticky-edinburgh",
   "metadata": {},
   "outputs": [
    {
     "name": "stdout",
     "output_type": "stream",
     "text": [
      "sigmoid output is: [[0. 1.]\n",
      " [0. 1.]\n",
      " [0. 1.]\n",
      " [0. 1.]\n",
      " [0. 1.]\n",
      " [0. 1.]\n",
      " [0. 1.]]\n"
     ]
    }
   ],
   "source": [
    "#get sigmoid derivative\n",
    "#z = sigmoidfrac(XW)  #sigmoid activation function\n",
    "z=np.zeros([7,2])\n",
    "\n",
    "for i in range(7):\n",
    "    a,b = sigmoidfrac(XW[i])\n",
    "    z[i][0] = a\n",
    "    z[i][1] = b\n",
    "print (\"sigmoid output is:\",z )\n",
    "\n",
    "#sigmoid output in the form of 2d array for numerator and denominator"
   ]
  },
  {
   "cell_type": "markdown",
   "id": "collectible-evans",
   "metadata": {},
   "source": [
    "# Calculating cost/error"
   ]
  },
  {
   "cell_type": "code",
   "execution_count": 9,
   "id": "metric-problem",
   "metadata": {
    "scrolled": true
   },
   "outputs": [
    {
     "name": "stdout",
     "output_type": "stream",
     "text": [
      "error is  [[-20. -19.]\n",
      " [-10.  -9.]\n",
      " [-10.  -9.]\n",
      " [-20. -19.]\n",
      " [-20. -19.]\n",
      " [-10.  -9.]\n",
      " [-20. -19.]]\n",
      "error sum is -213.0\n"
     ]
    }
   ],
   "source": [
    "\n",
    "error = z - labels  #backprop step1\n",
    "print (\"error is \",error)\n",
    "print(\"error sum is\",error.sum())   #backpro step 2\n",
    "\n",
    "#labels are too small and subtraction is not making sense at all as the numerator and denominator numbers are very big"
   ]
  },
  {
   "cell_type": "code",
   "execution_count": 10,
   "id": "excellent-perception",
   "metadata": {},
   "outputs": [],
   "source": [
    "# dpred = np.zeros([7,2])\n",
    "# for i in range(len(dpred)):\n",
    "#     dpred[i][0] = z[i][0] * (1 - )"
   ]
  },
  {
   "cell_type": "markdown",
   "id": "super-gentleman",
   "metadata": {},
   "source": [
    "# Get derivative"
   ]
  },
  {
   "cell_type": "code",
   "execution_count": 11,
   "id": "medium-seattle",
   "metadata": {},
   "outputs": [
    {
     "name": "stdout",
     "output_type": "stream",
     "text": [
      "sigmoid derivative is  [[0. 1.]\n",
      " [0. 1.]\n",
      " [0. 1.]\n",
      " [0. 1.]\n",
      " [0. 1.]\n",
      " [0. 1.]\n",
      " [0. 1.]]\n"
     ]
    }
   ],
   "source": [
    "#calculate derivative\n",
    "dpred = np.zeros([7,2])\n",
    "dcost = error\n",
    "dpred - sigmoid\n",
    "print(\"sigmoid derivative is \",dpred)"
   ]
  },
  {
   "cell_type": "code",
   "execution_count": 12,
   "id": "informative-extra",
   "metadata": {},
   "outputs": [
    {
     "name": "stdout",
     "output_type": "stream",
     "text": [
      "[[ -0. -19.]\n",
      " [ -0.  -9.]\n",
      " [ -0.  -9.]\n",
      " [ -0. -19.]\n",
      " [ -0. -19.]\n",
      " [ -0.  -9.]\n",
      " [ -0. -19.]]\n"
     ]
    }
   ],
   "source": [
    "#Calculate new weight\n",
    "#slope = input*dcost*dpred\n",
    "SL1 = dcost * dpred\n",
    "print(SL1)\n"
   ]
  },
  {
   "cell_type": "markdown",
   "id": "positive-adaptation",
   "metadata": {},
   "source": [
    "# Get New Weights"
   ]
  },
  {
   "cell_type": "code",
   "execution_count": 13,
   "id": "appropriate-tunnel",
   "metadata": {},
   "outputs": [
    {
     "name": "stdout",
     "output_type": "stream",
     "text": [
      "[ 60. 575.]\n",
      "[[   37.  8292.]\n",
      " [   95. 10475.]\n",
      " [   73.  8533.]]\n"
     ]
    }
   ],
   "source": [
    "inputs = input_set.T\n",
    "weights = weights - lr*np.dot(inputs, SL1)\n",
    "    \n",
    "for num in SL1:\n",
    "    bias = bias - lr*num\n",
    "print(bias)\n",
    "print(weights)\n",
    "\n",
    "#weights are ending up being negative, need to discuss resolution on this."
   ]
  },
  {
   "cell_type": "code",
   "execution_count": 14,
   "id": "exterior-times",
   "metadata": {},
   "outputs": [],
   "source": [
    "#train ANN model and this accumulation of earlier step\n",
    "# for epoch in range(10):\n",
    "#     inputs = input_set  # set aside the original input\n",
    "#     XW = np.dot(inputs, weights)+ bias  # dot product of input and add bias\n",
    "#     print(\"printing dot product\",XW)\n",
    "#     z = sigmoid(XW)  #sigmoid activation function\n",
    "#     print (\"sigmoid output is:\",z )\n",
    "#     error = z - labels  #backprop step1\n",
    "#     print (\"error is \",error)\n",
    "#     print(\"error sum is\",error.sum())   #backpro step 2\n",
    "#     dcost = error\n",
    "#     dpred = sigmoid_derivative(z)\n",
    "#     print(\"sigmoid derivative is \",dpred)\n",
    "#     z_del = dcost * dpred\n",
    "#     inputs = input_set.T\n",
    "#     weights = weights - lr*np.dot(inputs, z_del)\n",
    "    \n",
    "#     for num in z_del:\n",
    "#         bias = bias - lr*num"
   ]
  },
  {
   "cell_type": "code",
   "execution_count": 15,
   "id": "administrative-corporation",
   "metadata": {},
   "outputs": [
    {
     "name": "stdout",
     "output_type": "stream",
     "text": [
      "(3, 7)\n",
      "(3, 2)\n"
     ]
    }
   ],
   "source": [
    "print(inputs.shape)\n",
    "print(weights.shape)\n"
   ]
  },
  {
   "cell_type": "markdown",
   "id": "sudden-precipitation",
   "metadata": {},
   "source": [
    "# Perform Prediction"
   ]
  },
  {
   "cell_type": "code",
   "execution_count": 16,
   "id": "distinguished-ferry",
   "metadata": {},
   "outputs": [
    {
     "name": "stdout",
     "output_type": "stream",
     "text": [
      "(3,)\n",
      "(2,)\n",
      "(3, 2)\n",
      "[  3800. 544165.]\n"
     ]
    }
   ],
   "source": [
    "\n",
    "single_pt = np.array([30,20,10])\n",
    "input1 = np.dot(single_pt, weights) + bias\n",
    "print(single_pt.shape)\n",
    "print(input1.shape)\n",
    "print(weights.shape)\n",
    "print(input1)\n",
    "# num,den = sigmoidfrac()\n",
    "# print(num,den)"
   ]
  },
  {
   "cell_type": "code",
   "execution_count": 19,
   "id": "intense-integer",
   "metadata": {},
   "outputs": [
    {
     "name": "stdout",
     "output_type": "stream",
     "text": [
      "0 1\n",
      "0 1\n"
     ]
    }
   ],
   "source": [
    "single_pt = np.array([30,30,20])\n",
    "num1,den1 = sigmoidfrac(input1[0])\n",
    "num2,den2 = sigmoidfrac(input1[1])\n",
    "\n",
    "print(num1,den1)\n",
    "print(num2,den2)"
   ]
  },
  {
   "cell_type": "code",
   "execution_count": null,
   "id": "complex-desire",
   "metadata": {},
   "outputs": [],
   "source": [
    "single_pt = np.array([30,30,20])\n",
    "num,den = sigmoidfrac(np.dot(single_pt, weights) + bias)\n",
    "print(num,den)"
   ]
  }
 ],
 "metadata": {
  "kernelspec": {
   "display_name": "Python 3",
   "language": "python",
   "name": "python3"
  },
  "language_info": {
   "codemirror_mode": {
    "name": "ipython",
    "version": 3
   },
   "file_extension": ".py",
   "mimetype": "text/x-python",
   "name": "python",
   "nbconvert_exporter": "python",
   "pygments_lexer": "ipython3",
   "version": "3.9.2"
  }
 },
 "nbformat": 4,
 "nbformat_minor": 5
}
