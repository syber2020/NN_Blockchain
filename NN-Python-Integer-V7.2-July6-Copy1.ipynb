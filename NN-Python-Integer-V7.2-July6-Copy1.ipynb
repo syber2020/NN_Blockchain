{
 "cells": [
  {
   "cell_type": "markdown",
   "id": "soviet-prototype",
   "metadata": {},
   "source": [
    "# Get Inputs"
   ]
  },
  {
   "cell_type": "code",
   "execution_count": 29,
   "id": "fixed-consumption",
   "metadata": {},
   "outputs": [],
   "source": [
    "#Independent variables\n",
    "import random\n",
    "import numpy as np\n",
    "input_set = np.array([[0,1,0],\n",
    "                      [0,0,1],\n",
    "                      [1,0,0],\n",
    "                      [1,1,0],\n",
    "                      [1,1,1],\n",
    "                      [0,1,1],\n",
    "                      [0,1,0]])#Dependent variable\n",
    "labels = np.array([[1,\n",
    "                    0,\n",
    "                    0,\n",
    "                    1,\n",
    "                    1,\n",
    "                    0,\n",
    "                    1]])\n",
    "labels = labels.reshape(7,1) #to convert labels to vector"
   ]
  },
  {
   "cell_type": "markdown",
   "id": "southwest-census",
   "metadata": {},
   "source": [
    "# Get Parameters"
   ]
  },
  {
   "cell_type": "code",
   "execution_count": 30,
   "id": "fantastic-chile",
   "metadata": {},
   "outputs": [
    {
     "name": "stdout",
     "output_type": "stream",
     "text": [
      "<class 'list'>\n"
     ]
    }
   ],
   "source": [
    "#Define Hyperparameters\n",
    "#considering no fractions\n",
    "np.random.seed(42)\n",
    "weights = np.round(np.random.rand(3,1) *100)\n",
    "bias= np.round(np.random.rand(1)*100)\n",
    "lr = [5,100] #learning rate\n",
    "print(type(lr))"
   ]
  },
  {
   "cell_type": "code",
   "execution_count": 31,
   "id": "judicial-quarter",
   "metadata": {},
   "outputs": [
    {
     "name": "stdout",
     "output_type": "stream",
     "text": [
      "[[ 77. 100.]\n",
      " [  2. 100.]\n",
      " [ 63. 100.]]\n",
      "[ 75. 100.]\n"
     ]
    }
   ],
   "source": [
    "weights = np.zeros((3,2))\n",
    "np.random.seed(10)\n",
    "for i in range(3):\n",
    "    weights[i][0] = np.round(np.random.rand(1)*100)\n",
    "    weights[i][1] = 100\n",
    "bias = np.zeros(2)\n",
    "bias[0] = np.round(np.random.rand(1)*100)\n",
    "bias[1] = 100 \n",
    "print(weights)\n",
    "print(bias)               "
   ]
  },
  {
   "cell_type": "code",
   "execution_count": 32,
   "id": "activated-timer",
   "metadata": {},
   "outputs": [],
   "source": [
    "# #multiplying inputs with weights in matrices \n",
    "# def addfrac(a,b,c,d,e,f):\n",
    "#     num = a*d*f + c*b*f+e*b*d\n",
    "#     den = b*d*f\n",
    "#     return num,den"
   ]
  },
  {
   "cell_type": "code",
   "execution_count": 33,
   "id": "violent-removal",
   "metadata": {},
   "outputs": [],
   "source": [
    "#define activation function\n",
    "# def sigmoid(x):\n",
    "#     return 1/(1+np.exp(-x))"
   ]
  },
  {
   "cell_type": "markdown",
   "id": "wound-explorer",
   "metadata": {},
   "source": [
    "# Define Sigmoid Function"
   ]
  },
  {
   "cell_type": "code",
   "execution_count": 34,
   "id": "pediatric-anger",
   "metadata": {},
   "outputs": [],
   "source": [
    "# taylor series works when x<1\n",
    "# Assumption based on values of x\n",
    "# need to check the bwlow formulas of taylor series one more time\n",
    "def sigmoidfrac(x,y):\n",
    "    if(x/y>=10):\n",
    "        num = 1; den = 1\n",
    "    elif((x/y)>=9 and (x/y)<10):\n",
    "        num = 99988; den = 100000\n",
    "    elif((x/y)>=8 and (x/y)<9):\n",
    "        num = 99966; den = 100000\n",
    "    elif((x/y)>=7 and (x/y)<8):\n",
    "        num = 99909; den = 100000\n",
    "    elif((x/y)>=6 and (x/y)<7):\n",
    "        num = 99753; den = 100000\n",
    "    elif((x/y)>=5 and (x/y)<6):\n",
    "        num = 99331; den = 100000\n",
    "    elif((x/y)>=1 and (x/y)<5):\n",
    "        q = int(x/y) \n",
    "        r = x%y\n",
    "        num= pow(19,q)*24*pow(y,4)\n",
    "        den= pow(19,q)*24*pow(y,4)+pow(7,q)*(24*pow(y,4)-24*r*pow(y,3)+12*pow(r,2)*pow(y,2)-4*y*pow(r,3)+pow(r,4))    \n",
    "    elif(x/y>-1 and x/y<1):\n",
    "        num= 24*pow(y,4)\n",
    "        den= 48*pow(y,4)-24*x*pow(y,3)+12*pow(x,2)*pow(y,2)-4*y*pow(x,3)+pow(x,4)   \n",
    "    elif(x/y>-6 and x/y<=-1):\n",
    "        q = int(x/y) \n",
    "        r = x%y\n",
    "        num = 24*pow(y,4)*pow(7,-q)\n",
    "        den = 24*pow(y,4)*pow(7,-q)+pow(19,-q)*(24*pow(y,4)+24*r*pow(y,3)+12*pow(r,2)*pow(y,2)+4*y*pow(r,3)+pow(r,4))\n",
    "    elif(x/y>-7 and x/y<=-6):\n",
    "        num =15; den= 10000 \n",
    "    elif(x/y>-8 and x/y<=-7):\n",
    "        num =6; den = 10000     \n",
    "    elif(x/y>-9 and x/y<=-8):\n",
    "        num =2; den = 10000 \n",
    "    elif(x/y>-10 and x/y<=-9):\n",
    "         num = 7; den = 100000\n",
    "    elif(x/y<=-10):\n",
    "         num =0 ; den =1\n",
    "    return num,den"
   ]
  },
  {
   "cell_type": "code",
   "execution_count": 35,
   "id": "deluxe-canvas",
   "metadata": {},
   "outputs": [],
   "source": [
    "# Python Program to find the L.C.M. of two input number\n",
    "def compute_lcm(x, y):\n",
    "   # choose the greater number\n",
    "   if x > y:\n",
    "       greater = x\n",
    "   else:\n",
    "       greater = y\n",
    "   while(True):\n",
    "       if((greater % x == 0) and (greater % y == 0)):\n",
    "           lcm = greater\n",
    "           break\n",
    "       greater += 1\n",
    "   return lcm"
   ]
  },
  {
   "cell_type": "code",
   "execution_count": 36,
   "id": "another-ozone",
   "metadata": {},
   "outputs": [],
   "source": [
    "# define derivative\n",
    "def sigmoid_derivative(x,y):\n",
    "    num = x*y-pow(x,2)\n",
    "    den = pow(y,2)\n",
    "    return num,den"
   ]
  },
  {
   "cell_type": "code",
   "execution_count": 37,
   "id": "departmental-minnesota",
   "metadata": {},
   "outputs": [],
   "source": [
    "#adding num and den version of the form a/b and c/d\n",
    "def addition(a,b,c,d):\n",
    "    den = compute_lcm(b,d)\n",
    "    num = ((den/b)*a) + ((den/d)*c)\n",
    "#     print(num,den)\n",
    "    return float(num),float(den)\n",
    "        "
   ]
  },
  {
   "cell_type": "code",
   "execution_count": 38,
   "id": "neither-dragon",
   "metadata": {},
   "outputs": [],
   "source": [
    "def multiply_xwb(x,y,bn,bd):\n",
    "    t = np.zeros((7,2))\n",
    "    for i in range(x.shape[0]):\n",
    "        t1 = (x[i][0]*y[0][0])\n",
    "        t2 = y[0][1]\n",
    "        t3 = (x[i][1]*y[1][0])\n",
    "        t4 = y[1][1]\n",
    "        t1,t2 = addition(t1,t2,t3,t4)\n",
    "        t3 = (x[i][2]*y[2][0])\n",
    "        t4 = y[2][1]\n",
    "        t1,t2 = addition(t1,t2,t3,t4)\n",
    "        num,den = addition(t1,t2,bn,bd)\n",
    "        t[i][0]= float(num)\n",
    "        t[i][1]= float(den)\n",
    "    return t"
   ]
  },
  {
   "cell_type": "code",
   "execution_count": 39,
   "id": "intimate-revolution",
   "metadata": {},
   "outputs": [],
   "source": [
    "def subtraction(a,b,c,d):\n",
    "    den = compute_lcm(b,d)\n",
    "#     print(\"lcm is \",den)\n",
    "    num = ((den/b)*a) - ((den/d)*c)\n",
    "    return num,den"
   ]
  },
  {
   "cell_type": "code",
   "execution_count": 40,
   "id": "seeing-scheduling",
   "metadata": {},
   "outputs": [],
   "source": [
    "def multiply(a,b,c,d): # of the form a/b * c/d\n",
    "    num = a*c\n",
    "    den = b*d\n",
    "    return num,den"
   ]
  },
  {
   "cell_type": "code",
   "execution_count": 41,
   "id": "visible-humor",
   "metadata": {},
   "outputs": [],
   "source": [
    "import math\n",
    "def arraylcm(a):\n",
    "  lcm = a[0]\n",
    "  for i in range(1,len(a)):\n",
    "    lcm = lcm*a[i]//math.gcd(lcm, a[i])\n",
    "  return lcm"
   ]
  },
  {
   "cell_type": "code",
   "execution_count": 42,
   "id": "sweet-twins",
   "metadata": {},
   "outputs": [],
   "source": [
    "def mul_e_sd_i(x,y):\n",
    "    for i in range(x.shape[0]):\n",
    "        t1 = (x[i][0]*y[0][0])\n",
    "        t2 = y[0][1]\n",
    "        t3 = (x[i][1]*y[1][0])\n",
    "        t4 = y[1][1]\n",
    "        t1,t2 = addition(t1,t2,t3,t4)\n",
    "        t3 = (x[i][2]*y[2][0])\n",
    "        t4 = y[2][1]\n",
    "        t1,t2 = addition(t1,t2,t3,t4)\n",
    "        num,den = addition(t1,t2,bn,bd)\n",
    "        "
   ]
  },
  {
   "cell_type": "markdown",
   "id": "premier-lying",
   "metadata": {},
   "source": [
    "# Multiply weights with Inputs and add bias"
   ]
  },
  {
   "cell_type": "code",
   "execution_count": 43,
   "id": "distant-disaster",
   "metadata": {},
   "outputs": [],
   "source": [
    "#Multiply inputs into weights.\n",
    "XW = multiply_xwb(input_set,weights,bias[0],bias[1])\n",
    "# print(XW)"
   ]
  },
  {
   "cell_type": "code",
   "execution_count": 44,
   "id": "minimal-relief",
   "metadata": {},
   "outputs": [],
   "source": [
    "# print(\"printing dot product\",XW)"
   ]
  },
  {
   "cell_type": "code",
   "execution_count": 45,
   "id": "covered-lancaster",
   "metadata": {},
   "outputs": [],
   "source": [
    "# define derivative\n",
    "# def sigmoid_derivative(x):\n",
    "#     return (x*(100-x))"
   ]
  },
  {
   "cell_type": "markdown",
   "id": "quality-metropolitan",
   "metadata": {},
   "source": [
    "# Get Sigmoid outputs for XW"
   ]
  },
  {
   "cell_type": "code",
   "execution_count": 55,
   "id": "sticky-edinburgh",
   "metadata": {
    "scrolled": true
   },
   "outputs": [
    {
     "name": "stdout",
     "output_type": "stream",
     "text": [
      "[[2.40000000e+25 3.53199042e+25]\n",
      " [4.56000000e+26 5.74646179e+26]\n",
      " [4.56000000e+26 5.58123929e+26]\n",
      " [4.56000000e+26 5.55976618e+26]\n",
      " [8.66400000e+27 9.69314591e+27]\n",
      " [4.56000000e+26 5.72142382e+26]\n",
      " [2.40000000e+25 3.53199042e+25]]\n"
     ]
    }
   ],
   "source": [
    "# #get sigmoid derivative\n",
    "# z = sigmoidfrac(XW)  #sigmoid activation function\n",
    "def get_sigmoid(x):\n",
    "    z=np.zeros((7,2))\n",
    "    for i in range(x.shape[0]):\n",
    "        a,b = sigmoidfrac(x[i][0],x[i][1])\n",
    "#         z[i][0] = int(str(a)[:3]) \n",
    "#         z[i][1] = int(str(b)[:3])\n",
    "        z[i][0] = a\n",
    "        z[i][1] = b\n",
    "    return z \n",
    "z = get_sigmoid(XW)\n",
    "print(z)\n"
   ]
  },
  {
   "cell_type": "markdown",
   "id": "collectible-evans",
   "metadata": {},
   "source": [
    "# Calculating cost/error"
   ]
  },
  {
   "cell_type": "code",
   "execution_count": 56,
   "id": "metric-problem",
   "metadata": {
    "scrolled": true
   },
   "outputs": [
    {
     "name": "stdout",
     "output_type": "stream",
     "text": [
      "[[-1.13199042e+25  3.53199042e+25]\n",
      " [ 4.56000000e+26  5.74646179e+26]\n",
      " [ 4.56000000e+26  5.58123929e+26]\n",
      " [-9.99766183e+25  5.55976618e+26]\n",
      " [-1.02914591e+27  9.69314591e+27]\n",
      " [ 4.56000000e+26  5.72142382e+26]\n",
      " [-1.13199042e+25  3.53199042e+25]]\n"
     ]
    }
   ],
   "source": [
    "def cost(a,b):\n",
    "    c = np.zeros((7,2))\n",
    "    for i in range (a.shape[0]):\n",
    "        num,den = subtraction(a[i][0],a[i][1],b[i],1,)\n",
    "        c[i][0] = num\n",
    "        c[i][1] = den\n",
    "    return c\n",
    "error = cost(z,labels)\n",
    "print(error)"
   ]
  },
  {
   "cell_type": "markdown",
   "id": "super-gentleman",
   "metadata": {},
   "source": [
    "# Get derivative of XW"
   ]
  },
  {
   "cell_type": "code",
   "execution_count": 58,
   "id": "medium-seattle",
   "metadata": {},
   "outputs": [
    {
     "name": "stdout",
     "output_type": "stream",
     "text": [
      "sigmoid derivative is  [[7.08599220e+206 3.17214648e+207]\n",
      " [3.11324873e+216 1.44906347e+217]\n",
      " [2.41018689e+216 1.13148331e+217]\n",
      " [2.32994222e+216 1.09508627e+217]\n",
      " [1.85488000e+226 8.96512866e+226]\n",
      " [2.99633130e+216 1.39639805e+217]\n",
      " [7.08599220e+206 3.17214648e+207]]\n"
     ]
    }
   ],
   "source": [
    "def get_SD(a):\n",
    "    b=np.zeros((7,2))\n",
    "    for i in range(a.shape[0]):\n",
    "        num,den = sigmoidfrac(a[i][0],a[i][1])\n",
    "#         b[i][0] = int(str(num)[:3]) \n",
    "#         b[i][1] = int(str(den)[:3])\n",
    "        b[i][0] = num \n",
    "        b[i][1] = den\n",
    "    c = np.zeros((7,2))\n",
    "    for i in range(7):\n",
    "        x,y = sigmoid_derivative(b[i][0], b[i][1])\n",
    "        c[i][0] =x\n",
    "        c[i][1] =y\n",
    "    return c\n",
    "SD = get_SD(z)\n",
    "print(\"sigmoid derivative is \",SD)"
   ]
  },
  {
   "cell_type": "markdown",
   "id": "ongoing-kitchen",
   "metadata": {},
   "source": [
    "# Calculate error multiplied to SD multiplied to inputs"
   ]
  },
  {
   "cell_type": "code",
   "execution_count": 59,
   "id": "informative-extra",
   "metadata": {},
   "outputs": [
    {
     "name": "stdout",
     "output_type": "stream",
     "text": [
      "[[ -715. 10000.]\n",
      " [ 1704. 10000.]\n",
      " [ 1740. 10000.]\n",
      " [ -382. 10000.]\n",
      " [ -219. 10000.]\n",
      " [ 1710. 10000.]\n",
      " [ -715. 10000.]]\n"
     ]
    }
   ],
   "source": [
    "# get error multiplied to SD\n",
    "def get_exsd(a,b):\n",
    "    c = np.zeros((7,2))\n",
    "    for i in range(len(a)):\n",
    "        num = a[i][0]*b[i][0]\n",
    "        den = a[i][1]*b[i][1]\n",
    "        c[i][0] = num \n",
    "        c[i][1] = den\n",
    "    d = np.zeros((7,2))\n",
    "    for i in range(len(a)):\n",
    "        d[i][0] = int((c[i][0]/c[i][1])*10000)\n",
    "        d[i][1] = 10000\n",
    "    return d\n",
    "res = get_exsd(error,SD)\n",
    "print(res)\n"
   ]
  },
  {
   "cell_type": "code",
   "execution_count": 60,
   "id": "impossible-programming",
   "metadata": {},
   "outputs": [],
   "source": [
    "#get error multiplied to SD, multiplied to Inputs"
   ]
  },
  {
   "cell_type": "code",
   "execution_count": 66,
   "id": "tamil-strand",
   "metadata": {},
   "outputs": [
    {
     "name": "stdout",
     "output_type": "stream",
     "text": [
      "[[ 2.8475e+04  1.0000e+08]\n",
      " [-8.0250e+03  1.0000e+08]\n",
      " [ 7.9875e+04  1.0000e+08]]\n"
     ]
    }
   ],
   "source": [
    "def get_exsdxi(input_set,res,l):\n",
    "    inputs = input_set.T\n",
    "    b = np.zeros((3,2))\n",
    "    num = 0\n",
    "    den = 0\n",
    "    for j in range(inputs.shape[0]):\n",
    "        for i in range(res.shape[0]):\n",
    "            num = num+ inputs[j][i]*res[i][0]*l[0]\n",
    "            den = res[0][1]*l[1] \n",
    "        b[j][0] = num \n",
    "        b[j][1] = den \n",
    "        num=0\n",
    "        den=0\n",
    "    return b\n",
    "inp_res = get_exsdxi(input_set,res,lr)\n",
    "print(inp_res)"
   ]
  },
  {
   "cell_type": "markdown",
   "id": "positive-adaptation",
   "metadata": {},
   "source": [
    "# Get New Weights and Bias"
   ]
  },
  {
   "cell_type": "code",
   "execution_count": 62,
   "id": "cathedral-hometown",
   "metadata": {},
   "outputs": [
    {
     "name": "stdout",
     "output_type": "stream",
     "text": [
      "[[ 758470. 1000000.]\n",
      " [  22955. 1000000.]\n",
      " [ 597900. 1000000.]]\n"
     ]
    }
   ],
   "source": [
    "# Get new Weights\n",
    "# for i in range(len(weights)):\n",
    "#     num,den = subtraction(weights[i][0], weights[i][1], inp_res[i][0],inp_res[i][1])\n",
    "#     weights[i][0]= num\n",
    "#     weights[i][1] =den\n",
    "# weights\n",
    "\n",
    "def get_new_weight(a,b):\n",
    "    c = np.zeros((3,2))\n",
    "    for i in range(len(a)):\n",
    "        num,den = subtraction(a[i][0], a[i][1], b[i][0],b[i][1])\n",
    "        c[i][0]= num\n",
    "        c[i][1] =den\n",
    "    return c\n",
    "weights = get_new_weight(weights,inp_res)\n",
    "print(weights)"
   ]
  },
  {
   "cell_type": "code",
   "execution_count": 63,
   "id": "royal-sessions",
   "metadata": {},
   "outputs": [
    {
     "name": "stdout",
     "output_type": "stream",
     "text": [
      "[ 7182. 10000.]\n"
     ]
    }
   ],
   "source": [
    "#compute lr * l_res\n",
    "def get_new_bias(b,r,l):\n",
    "    bn= np.zeros((7,2))\n",
    "    for i in range(res.shape[0]):\n",
    "        r[i][0] =  r[i][0]*l[0]\n",
    "        r[i][1] =  r[i][1]*l[1]\n",
    "        bn[i][0] = int(r[i][0]/r[i][1] *10000)\n",
    "        bn[i][1] = 10000\n",
    "        num,den = subtraction(b[0],b[1], bn[i][0],bn[i][1])\n",
    "        b[0] = num\n",
    "        b[1] = den\n",
    "    return b\n",
    "\n",
    "bias = get_new_bias(bias,res,lr)\n",
    "print(bias)"
   ]
  },
  {
   "cell_type": "code",
   "execution_count": 73,
   "id": "exterior-times",
   "metadata": {},
   "outputs": [],
   "source": [
    "# train ANN model and this accumulation of earlier step\n",
    "for epoch in range(25000):\n",
    "    inputs = input_set  # set aside the original input\n",
    "    XW =  multiply_xwb(inputs,weights,bias[0],bias[1]) # dot product of input and add bias\n",
    "    z=get_sigmoid(XW)    #getting sigmoid outputs\n",
    "#     print (\"sigmoid output is:\",z ) \n",
    "    error = cost(z,labels)  #calculate cost\n",
    "#     print (\"error is \",error)\n",
    "    dcost = error\n",
    "    dpred = get_SD(z) # getting sigmoid derivative\n",
    "#     print(\"sigmoid derivative is \",dpred)\n",
    "    z_del = get_exsd(dcost,dpred)  # multiply error and sigmoid derivative\n",
    "#     inputs = input_set.T\n",
    "#     print(inputs)\n",
    "    comp_A  = get_exsdxi(inputs,z_del,lr)  #multiply error* sd *inputs * lerarning rate\n",
    "    weights = get_new_weight(weights,comp_A)\n",
    "    bias = get_new_bias(bias,z_del,lr)"
   ]
  },
  {
   "cell_type": "code",
   "execution_count": 74,
   "id": "administrative-corporation",
   "metadata": {},
   "outputs": [
    {
     "name": "stdout",
     "output_type": "stream",
     "text": [
      "[[ 6563455.  1000000.]\n",
      " [14166925.  1000000.]\n",
      " [-7465685.  1000000.]]\n",
      "[-97043.  10000.]\n"
     ]
    }
   ],
   "source": [
    "print(weights)\n",
    "print(bias)\n"
   ]
  },
  {
   "cell_type": "code",
   "execution_count": 84,
   "id": "damaged-spokesman",
   "metadata": {},
   "outputs": [
    {
     "name": "stdout",
     "output_type": "stream",
     "text": [
      "3\n",
      "(3, 2)\n",
      "1\n"
     ]
    }
   ],
   "source": [
    "print(pt.shape[0])\n",
    "print(weights.shape)\n",
    "print(pt[0])"
   ]
  },
  {
   "cell_type": "markdown",
   "id": "sudden-precipitation",
   "metadata": {},
   "source": [
    "# Perform Prediction"
   ]
  },
  {
   "cell_type": "code",
   "execution_count": 91,
   "id": "talented-disposal",
   "metadata": {},
   "outputs": [
    {
     "name": "stdout",
     "output_type": "stream",
     "text": [
      "0.020778919877495916\n"
     ]
    }
   ],
   "source": [
    "pt = np.array([1,0,0])\n",
    "num = 0\n",
    "for i in range(pt.shape[0]):\n",
    "    num = num + pt[i]*weights[i][0] \n",
    "    den = weights[0][1]\n",
    "    x = addition(num,den,bias[0],bias[1])\n",
    "    pred= sigmoidfrac(x[0],x[1])\n",
    "    pred = (pred[0]/pred[1])\n",
    "print(pred_fin)"
   ]
  },
  {
   "cell_type": "code",
   "execution_count": 92,
   "id": "intense-integer",
   "metadata": {},
   "outputs": [
    {
     "name": "stdout",
     "output_type": "stream",
     "text": [
      "0.9885299558146738\n"
     ]
    }
   ],
   "source": [
    "pt = np.array([0,1,0])\n",
    "num = 0\n",
    "for i in range(pt.shape[0]):\n",
    "    num = num + pt[i]*weights[i][0] \n",
    "    den = weights[0][1]\n",
    "    x = addition(num,den,bias[0],bias[1])\n",
    "    pred  = sigmoidfrac(x[0],x[1])\n",
    "    pred = (pred[0]/pred[1])\n",
    "print(pred)"
   ]
  },
  {
   "cell_type": "code",
   "execution_count": 93,
   "id": "complex-desire",
   "metadata": {},
   "outputs": [
    {
     "name": "stdout",
     "output_type": "stream",
     "text": [
      "0.9885299558146738\n"
     ]
    }
   ],
   "source": [
    "single_pt = np.array([0,1,0])\n",
    "num = 0\n",
    "for i in range(pt.shape[0]):\n",
    "    num = num + pt[i]*weights[i][0] \n",
    "    den = weights[0][1]\n",
    "    x = addition(num,den,bias[0],bias[1])\n",
    "    pred  = sigmoidfrac(x[0],x[1])\n",
    "    pred = (pred[0]/pred[1])\n",
    "print(pred)"
   ]
  },
  {
   "cell_type": "code",
   "execution_count": null,
   "id": "fatty-immune",
   "metadata": {},
   "outputs": [],
   "source": []
  }
 ],
 "metadata": {
  "kernelspec": {
   "display_name": "Python 3",
   "language": "python",
   "name": "python3"
  },
  "language_info": {
   "codemirror_mode": {
    "name": "ipython",
    "version": 3
   },
   "file_extension": ".py",
   "mimetype": "text/x-python",
   "name": "python",
   "nbconvert_exporter": "python",
   "pygments_lexer": "ipython3",
   "version": "3.9.2"
  }
 },
 "nbformat": 4,
 "nbformat_minor": 5
}
