{
 "cells": [
  {
   "cell_type": "markdown",
   "id": "soviet-prototype",
   "metadata": {},
   "source": [
    "# Get Inputs"
   ]
  },
  {
   "cell_type": "code",
   "execution_count": 1,
   "id": "employed-omaha",
   "metadata": {},
   "outputs": [],
   "source": [
    "#Independent variables\n",
    "import numpy as np\n",
    "\n",
    "input_set = np.array([[10,20,10],\n",
    "                      [10,10,20],\n",
    "                      [20,15,15],\n",
    "                      [25,25,15],\n",
    "                      [24,24,28],\n",
    "                      [12,22,20],\n",
    "                      [8,18,10]])#Dependent variable\n",
    "labels = np.array([[20,\n",
    "                    10,\n",
    "                    10,\n",
    "                    20,\n",
    "                    20,\n",
    "                    10,\n",
    "                    20]])    # no need to scale, need original label\n",
    "labels = labels.reshape(7,1) #to convert labels to vector"
   ]
  },
  {
   "cell_type": "markdown",
   "id": "southwest-census",
   "metadata": {},
   "source": [
    "# Get Parameters"
   ]
  },
  {
   "cell_type": "code",
   "execution_count": 2,
   "id": "fantastic-chile",
   "metadata": {},
   "outputs": [
    {
     "name": "stdout",
     "output_type": "stream",
     "text": [
      "[[37.]\n",
      " [95.]\n",
      " [73.]]\n",
      "[60.]\n",
      "5\n"
     ]
    }
   ],
   "source": [
    "#Define Hyperparameters\n",
    "np.random.seed(42)\n",
    "weights = np.round(np.random.rand(3,1) *100)\n",
    "bias = np.round(np.random.rand(1) * 100)\n",
    "lr = 5 #learning rate\n",
    "print(weights)\n",
    "print(bias)\n",
    "print(lr)"
   ]
  },
  {
   "cell_type": "code",
   "execution_count": 3,
   "id": "violent-removal",
   "metadata": {},
   "outputs": [],
   "source": [
    "#define activation function\n",
    "# def sigmoid(x):\n",
    "#     return 1/(1+np.exp(-x))"
   ]
  },
  {
   "cell_type": "markdown",
   "id": "wound-explorer",
   "metadata": {},
   "source": [
    "# Define Sigmoid Function"
   ]
  },
  {
   "cell_type": "code",
   "execution_count": 4,
   "id": "pediatric-anger",
   "metadata": {},
   "outputs": [],
   "source": [
    "# taylor series works when x<1\n",
    "def sigmoidfrac(x):\n",
    "    num = 24*pow(x,4)+ 24*pow(x,3)+12*pow(x,2)+8*x+1\n",
    "    den = 48*pow(x,4)+ 24*pow(x,3)+12*pow(x,2)+8*x+1        \n",
    "    return num,den\n",
    "#     if(x>17):\n",
    "#         num =0\n",
    "#         den =1\n",
    "#     else:\n",
    "#         num = 24*pow(x,4)+ 24*pow(x,3)+12*pow(x,2)+8*x+1\n",
    "#         den = 48*pow(x,4)+ 24*pow(x,3)+12*pow(x,2)+8*x+1\n",
    "        \n",
    "#     return num,den"
   ]
  },
  {
   "cell_type": "code",
   "execution_count": 5,
   "id": "another-ozone",
   "metadata": {},
   "outputs": [],
   "source": [
    "#define derivative\n",
    "# def sigmoid_derivative(x):\n",
    "#     return sigmoidfrac(x)*(1-sigmoidfrac(x))"
   ]
  },
  {
   "cell_type": "markdown",
   "id": "premier-lying",
   "metadata": {},
   "source": [
    "# Multiply weights with Inputs and add bias"
   ]
  },
  {
   "cell_type": "code",
   "execution_count": 6,
   "id": "minimal-relief",
   "metadata": {},
   "outputs": [
    {
     "name": "stdout",
     "output_type": "stream",
     "text": [
      "printing dot product [[3060.]\n",
      " [2840.]\n",
      " [3320.]\n",
      " [4455.]\n",
      " [5272.]\n",
      " [4054.]\n",
      " [2796.]]\n"
     ]
    }
   ],
   "source": [
    "#multiply inputs\n",
    "inputs = input_set  # set aside the original input\n",
    "XW = np.dot(inputs, weights)+ bias  # dot product of input and add bias\n",
    "print(\"printing dot product\",XW)"
   ]
  },
  {
   "cell_type": "code",
   "execution_count": 7,
   "id": "covered-lancaster",
   "metadata": {},
   "outputs": [],
   "source": [
    "#define derivative\n",
    "# def sigmoid_derivative(x):\n",
    "#     return sigmoidfrac(x)*(1-sigmoidfrac(x))"
   ]
  },
  {
   "cell_type": "markdown",
   "id": "quality-metropolitan",
   "metadata": {},
   "source": [
    "# Get Sigmoid outputs"
   ]
  },
  {
   "cell_type": "code",
   "execution_count": 8,
   "id": "sticky-edinburgh",
   "metadata": {},
   "outputs": [
    {
     "name": "stdout",
     "output_type": "stream",
     "text": [
      "sigmoid output is: [[0. 1.]\n",
      " [0. 1.]\n",
      " [0. 1.]\n",
      " [0. 1.]\n",
      " [0. 1.]\n",
      " [0. 1.]\n",
      " [0. 1.]]\n"
     ]
    }
   ],
   "source": [
    "#get sigmoid derivative\n",
    "#z = sigmoidfrac(XW)  #sigmoid activation function\n",
    "z=np.zeros([7,2])\n",
    "\n",
    "for i in range(7):\n",
    "    a,b = sigmoidfrac(XW[i])\n",
    "    z[i][0] = a\n",
    "    z[i][1] = b\n",
    "print (\"sigmoid output is:\",z )\n",
    "\n",
    "#sigmoid output in the form of 2d array for numerator and denominator"
   ]
  },
  {
   "cell_type": "markdown",
   "id": "collectible-evans",
   "metadata": {},
   "source": [
    "# Calculating cost/error"
   ]
  },
  {
   "cell_type": "code",
   "execution_count": 9,
   "id": "metric-problem",
   "metadata": {
    "scrolled": true
   },
   "outputs": [
    {
     "name": "stdout",
     "output_type": "stream",
     "text": [
      "error is  [[-20. -19.]\n",
      " [-10.  -9.]\n",
      " [-10.  -9.]\n",
      " [-20. -19.]\n",
      " [-20. -19.]\n",
      " [-10.  -9.]\n",
      " [-20. -19.]]\n",
      "error sum is -213.0\n"
     ]
    }
   ],
   "source": [
    "\n",
    "error = z - labels  #backprop step1\n",
    "print (\"error is \",error)\n",
    "print(\"error sum is\",error.sum())   #backpro step 2\n",
    "\n",
    "#labels are too small and subtraction is not making sense at all as the numerator and denominator numbers are very big"
   ]
  },
  {
   "cell_type": "code",
   "execution_count": 10,
   "id": "excellent-perception",
   "metadata": {},
   "outputs": [],
   "source": [
    "# dpred = np.zeros([7,2])\n",
    "# for i in range(len(dpred)):\n",
    "#     dpred[i][0] = z[i][0] * (1 - )"
   ]
  },
  {
   "cell_type": "markdown",
   "id": "super-gentleman",
   "metadata": {},
   "source": [
    "# Get derivative"
   ]
  },
  {
   "cell_type": "code",
   "execution_count": 11,
   "id": "medium-seattle",
   "metadata": {},
   "outputs": [
    {
     "name": "stdout",
     "output_type": "stream",
     "text": [
      "sigmoid derivative is  [[0. 1.]\n",
      " [0. 1.]\n",
      " [0. 1.]\n",
      " [0. 1.]\n",
      " [0. 1.]\n",
      " [0. 1.]\n",
      " [0. 1.]]\n"
     ]
    }
   ],
   "source": [
    "#calculate derivative\n",
    "dpred = np.zeros([7,2])\n",
    "dcost = error\n",
    "for i in range(7):\n",
    "    dpred[i][0] = (z[i][0] * z[i][1]) - pow(z[i][0],2)\n",
    "    dpred[i][1] = pow(z[i][1],2)\n",
    "print(\"sigmoid derivative is \",dpred)"
   ]
  },
  {
   "cell_type": "code",
   "execution_count": 12,
   "id": "informative-extra",
   "metadata": {},
   "outputs": [
    {
     "name": "stdout",
     "output_type": "stream",
     "text": [
      "[[ -0. -19.]\n",
      " [ -0.  -9.]\n",
      " [ -0.  -9.]\n",
      " [ -0. -19.]\n",
      " [ -0. -19.]\n",
      " [ -0.  -9.]\n",
      " [ -0. -19.]]\n"
     ]
    }
   ],
   "source": [
    "#Calculate new weight\n",
    "#slope = input*dcost*dpred\n",
    "SL1 = dcost * dpred\n",
    "print(SL1)\n"
   ]
  },
  {
   "cell_type": "markdown",
   "id": "positive-adaptation",
   "metadata": {},
   "source": [
    "# Get New Weights"
   ]
  },
  {
   "cell_type": "code",
   "execution_count": 13,
   "id": "appropriate-tunnel",
   "metadata": {},
   "outputs": [
    {
     "name": "stdout",
     "output_type": "stream",
     "text": [
      "[ 60. 575.]\n",
      "[[   37.  8292.]\n",
      " [   95. 10475.]\n",
      " [   73.  8533.]]\n"
     ]
    }
   ],
   "source": [
    "inputs = input_set.T\n",
    "weights = weights - lr*np.dot(inputs, SL1)\n",
    "    \n",
    "for num in SL1:\n",
    "    bias = bias - lr*num\n",
    "print(bias)\n",
    "print(weights)\n",
    "\n",
    "#weights are ending up being negative, need to discuss resolution on this."
   ]
  },
  {
   "cell_type": "code",
   "execution_count": 14,
   "id": "exterior-times",
   "metadata": {},
   "outputs": [],
   "source": [
    "#train ANN model and this accumulation of earlier step\n",
    "# for epoch in range(10):\n",
    "#     inputs = input_set  # set aside the original input\n",
    "#     XW = np.dot(inputs, weights)+ bias  # dot product of input and add bias\n",
    "#     print(\"printing dot product\",XW)\n",
    "#     z = sigmoid(XW)  #sigmoid activation function\n",
    "#     print (\"sigmoid output is:\",z )\n",
    "#     error = z - labels  #backprop step1\n",
    "#     print (\"error is \",error)\n",
    "#     print(\"error sum is\",error.sum())   #backpro step 2\n",
    "#     dcost = error\n",
    "#     dpred = sigmoid_derivative(z)\n",
    "#     print(\"sigmoid derivative is \",dpred)\n",
    "#     z_del = dcost * dpred\n",
    "#     inputs = input_set.T\n",
    "#     weights = weights - lr*np.dot(inputs, z_del)\n",
    "    \n",
    "#     for num in z_del:\n",
    "#         bias = bias - lr*num"
   ]
  },
  {
   "cell_type": "code",
   "execution_count": 15,
   "id": "administrative-corporation",
   "metadata": {},
   "outputs": [
    {
     "name": "stdout",
     "output_type": "stream",
     "text": [
      "(3, 7)\n",
      "(3, 2)\n"
     ]
    }
   ],
   "source": [
    "print(inputs.shape)\n",
    "print(weights.shape)\n"
   ]
  },
  {
   "cell_type": "markdown",
   "id": "sudden-precipitation",
   "metadata": {},
   "source": [
    "# Perform Prediction"
   ]
  },
  {
   "cell_type": "code",
   "execution_count": 16,
   "id": "distinguished-ferry",
   "metadata": {},
   "outputs": [
    {
     "name": "stdout",
     "output_type": "stream",
     "text": [
      "(3,)\n",
      "(2,)\n",
      "(3, 2)\n",
      "[  3800. 544165.]\n"
     ]
    }
   ],
   "source": [
    "\n",
    "single_pt = np.array([30,20,10])\n",
    "input1 = np.dot(single_pt, weights) + bias\n",
    "print(single_pt.shape)\n",
    "print(input1.shape)\n",
    "print(weights.shape)\n",
    "print(input1)\n",
    "# num,den = sigmoidfrac()\n",
    "# print(num,den)"
   ]
  },
  {
   "cell_type": "code",
   "execution_count": 17,
   "id": "intense-integer",
   "metadata": {},
   "outputs": [
    {
     "ename": "ValueError",
     "evalue": "The truth value of an array with more than one element is ambiguous. Use a.any() or a.all()",
     "output_type": "error",
     "traceback": [
      "\u001b[1;31m---------------------------------------------------------------------------\u001b[0m",
      "\u001b[1;31mValueError\u001b[0m                                Traceback (most recent call last)",
      "\u001b[1;32m<ipython-input-17-bac8f94d3934>\u001b[0m in \u001b[0;36m<module>\u001b[1;34m\u001b[0m\n\u001b[0;32m      1\u001b[0m \u001b[0msingle_pt\u001b[0m \u001b[1;33m=\u001b[0m \u001b[0mnp\u001b[0m\u001b[1;33m.\u001b[0m\u001b[0marray\u001b[0m\u001b[1;33m(\u001b[0m\u001b[1;33m[\u001b[0m\u001b[1;36m30\u001b[0m\u001b[1;33m,\u001b[0m\u001b[1;36m30\u001b[0m\u001b[1;33m,\u001b[0m\u001b[1;36m20\u001b[0m\u001b[1;33m]\u001b[0m\u001b[1;33m)\u001b[0m\u001b[1;33m\u001b[0m\u001b[1;33m\u001b[0m\u001b[0m\n\u001b[1;32m----> 2\u001b[1;33m \u001b[0mnum\u001b[0m\u001b[1;33m,\u001b[0m\u001b[0mden\u001b[0m \u001b[1;33m=\u001b[0m \u001b[0msigmoidfrac\u001b[0m\u001b[1;33m(\u001b[0m\u001b[0mnp\u001b[0m\u001b[1;33m.\u001b[0m\u001b[0mdot\u001b[0m\u001b[1;33m(\u001b[0m\u001b[0msingle_pt\u001b[0m\u001b[1;33m,\u001b[0m \u001b[0mweights\u001b[0m\u001b[1;33m)\u001b[0m \u001b[1;33m+\u001b[0m \u001b[0mbias\u001b[0m\u001b[1;33m)\u001b[0m\u001b[1;33m\u001b[0m\u001b[1;33m\u001b[0m\u001b[0m\n\u001b[0m\u001b[0;32m      3\u001b[0m \u001b[0mprint\u001b[0m\u001b[1;33m(\u001b[0m\u001b[0mnum\u001b[0m\u001b[1;33m,\u001b[0m\u001b[0mden\u001b[0m\u001b[1;33m)\u001b[0m\u001b[1;33m\u001b[0m\u001b[1;33m\u001b[0m\u001b[0m\n",
      "\u001b[1;32m<ipython-input-4-00f9fb1126eb>\u001b[0m in \u001b[0;36msigmoidfrac\u001b[1;34m(x)\u001b[0m\n\u001b[0;32m      1\u001b[0m \u001b[1;31m# taylor series works when x<1\u001b[0m\u001b[1;33m\u001b[0m\u001b[1;33m\u001b[0m\u001b[1;33m\u001b[0m\u001b[0m\n\u001b[0;32m      2\u001b[0m \u001b[1;32mdef\u001b[0m \u001b[0msigmoidfrac\u001b[0m\u001b[1;33m(\u001b[0m\u001b[0mx\u001b[0m\u001b[1;33m)\u001b[0m\u001b[1;33m:\u001b[0m\u001b[1;33m\u001b[0m\u001b[1;33m\u001b[0m\u001b[0m\n\u001b[1;32m----> 3\u001b[1;33m     \u001b[1;32mif\u001b[0m\u001b[1;33m(\u001b[0m\u001b[0mx\u001b[0m\u001b[1;33m>\u001b[0m\u001b[1;36m17\u001b[0m\u001b[1;33m)\u001b[0m\u001b[1;33m:\u001b[0m\u001b[1;33m\u001b[0m\u001b[1;33m\u001b[0m\u001b[0m\n\u001b[0m\u001b[0;32m      4\u001b[0m         \u001b[0mnum\u001b[0m \u001b[1;33m=\u001b[0m\u001b[1;36m0\u001b[0m\u001b[1;33m\u001b[0m\u001b[1;33m\u001b[0m\u001b[0m\n\u001b[0;32m      5\u001b[0m         \u001b[0mden\u001b[0m \u001b[1;33m=\u001b[0m\u001b[1;36m1\u001b[0m\u001b[1;33m\u001b[0m\u001b[1;33m\u001b[0m\u001b[0m\n",
      "\u001b[1;31mValueError\u001b[0m: The truth value of an array with more than one element is ambiguous. Use a.any() or a.all()"
     ]
    }
   ],
   "source": [
    "single_pt = np.array([30,30,20])\n",
    "num,den = sigmoidfrac(np.dot(single_pt, weights) + bias)\n",
    "print(num,den)"
   ]
  },
  {
   "cell_type": "code",
   "execution_count": null,
   "id": "complex-desire",
   "metadata": {},
   "outputs": [],
   "source": []
  }
 ],
 "metadata": {
  "kernelspec": {
   "display_name": "Python 3",
   "language": "python",
   "name": "python3"
  },
  "language_info": {
   "codemirror_mode": {
    "name": "ipython",
    "version": 3
   },
   "file_extension": ".py",
   "mimetype": "text/x-python",
   "name": "python",
   "nbconvert_exporter": "python",
   "pygments_lexer": "ipython3",
   "version": "3.9.2"
  }
 },
 "nbformat": 4,
 "nbformat_minor": 5
}
