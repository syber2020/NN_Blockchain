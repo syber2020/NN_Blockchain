{
 "cells": [
  {
   "cell_type": "markdown",
   "id": "soviet-prototype",
   "metadata": {},
   "source": [
    "# Get Inputs"
   ]
  },
  {
   "cell_type": "code",
   "execution_count": 11,
   "id": "employed-omaha",
   "metadata": {},
   "outputs": [],
   "source": [
    "#Independent variables\n",
    "import numpy as np\n",
    "\n",
    "input_set = np.array([[10,20,10],\n",
    "                      [10,10,20],\n",
    "                      [20,15,15],\n",
    "                      [25,25,15],\n",
    "                      [24,24,28],\n",
    "                      [12,22,20],\n",
    "                      [8,18,10]])#Dependent variable\n",
    "labels = np.array([[20,\n",
    "                    10,\n",
    "                    10,\n",
    "                    20,\n",
    "                    20,\n",
    "                    10,\n",
    "                    20]])    # no need to scale, need original label\n",
    "labels = labels.reshape(7,1) #to convert labels to vector"
   ]
  },
  {
   "cell_type": "code",
   "execution_count": null,
   "id": "recorded-style",
   "metadata": {},
   "outputs": [],
   "source": []
  },
  {
   "cell_type": "code",
   "execution_count": null,
   "id": "harmful-houston",
   "metadata": {},
   "outputs": [],
   "source": []
  },
  {
   "cell_type": "code",
   "execution_count": 12,
   "id": "accepting-cocktail",
   "metadata": {},
   "outputs": [
    {
     "name": "stdout",
     "output_type": "stream",
     "text": [
      "<class 'numpy.ndarray'>\n",
      "<class 'numpy.ndarray'>\n"
     ]
    }
   ],
   "source": [
    "print(type(input_set))\n",
    "print(type(labels))"
   ]
  },
  {
   "cell_type": "markdown",
   "id": "southwest-census",
   "metadata": {},
   "source": [
    "# Get Parameters"
   ]
  },
  {
   "cell_type": "code",
   "execution_count": 13,
   "id": "fantastic-chile",
   "metadata": {},
   "outputs": [
    {
     "name": "stdout",
     "output_type": "stream",
     "text": [
      "[[37.]\n",
      " [95.]\n",
      " [73.]]\n",
      "[6.]\n",
      "5\n"
     ]
    }
   ],
   "source": [
    "#Define Hyperparameters\n",
    "#considering no fractions\n",
    "np.random.seed(42)\n",
    "weights = np.round(np.random.rand(3,1) *100)\n",
    "bias = np.round(np.random.rand(1) * 10)\n",
    "lr = 5 #learning rate\n",
    "print(weights)\n",
    "print(bias)\n",
    "print(lr)"
   ]
  },
  {
   "cell_type": "code",
   "execution_count": 10,
   "id": "activated-timer",
   "metadata": {},
   "outputs": [],
   "source": [
    "#multiplying inputs with weights in matrices \n",
    "def addfrac(a,b,c,d,e,f):\n",
    "    num = a*d*f + c*b*f+e*b*d\n",
    "    den = b*d*f\n",
    "    return num,den"
   ]
  },
  {
   "cell_type": "code",
   "execution_count": 111,
   "id": "violent-removal",
   "metadata": {},
   "outputs": [],
   "source": [
    "#define activation function\n",
    "# def sigmoid(x):\n",
    "#     return 1/(1+np.exp(-x))"
   ]
  },
  {
   "cell_type": "markdown",
   "id": "wound-explorer",
   "metadata": {},
   "source": [
    "# Define Sigmoid Function"
   ]
  },
  {
   "cell_type": "code",
   "execution_count": 21,
   "id": "pediatric-anger",
   "metadata": {},
   "outputs": [],
   "source": [
    "# taylor series works when x<1\n",
    "# Assumption based on values of x\n",
    "#need to check the bwlow formulas of taylor series one more time\n",
    "def sigmoidfrac(x,y):\n",
    "    if(x/y>=10):\n",
    "        num = 1; den = 1\n",
    "    elif((x/y)>=9 & (x/y)<10):\n",
    "        num = 99988; den = 100000\n",
    "    elif((x/y)>=8&(x/y)<9):\n",
    "        num = 99966; den = 100000\n",
    "    elif((x/y)>=7&(x/y)<8):\n",
    "        num = 99909; den = 100000\n",
    "    elif((x/y)>=6&(x/y)<7):\n",
    "        num = 99753; den = 100000\n",
    "    elif((x/y)>=5&(x/y)<6):\n",
    "        num = 99331; den = 100000\n",
    "    elif((x/y)>=1 &(x/y)<5):\n",
    "        q = x/y \n",
    "        r = x%y\n",
    "        num= pow(19,q)*24*pow(y,4)\n",
    "        den= pow(19,q)*24*pow(y,4)+pow(7,q)*(48*pow(y,4)+24*r*pow(y,3)+12*pow(r,2)*pow(y,2)+4*y*pow(r,3)+pow(r,4))    \n",
    "    elif(x/y>-1&x/y<1):\n",
    "        num= 24*pow(y,4)+24*r*pow(b,3)+12*pow(r,2)*pow(b,2)+4*pow(r,3)*b+pow(r,4)\n",
    "        den= 48*pow(y,4)+24*r*pow(y,3)+12*pow(r,2)*pow(y,2)+4*y*pow(r,3)+pow(r,4)    \n",
    "    elif(x/y<-6 & x/y<=-1):\n",
    "        q = x/y \n",
    "        r = x%y\n",
    "        num = 24*pow(b,4)*pow(7,q)\n",
    "        den = 24*pow(b,4)*pow(7,q)+pow(19,q)*(24*pow(b,4)+24*r*pow(b,3)+12*pow(r,2)*pow(b,2)+4*b*pow(r,3)+pow(r,4))\n",
    "    elif(x>-7&x<=-6):\n",
    "        num =15; den= 10000 \n",
    "    elif(x>-8&x<=-7):\n",
    "        num =6; den = 10000     \n",
    "    elif(x>-9&x<=-8):\n",
    "        num =2; den = 10000 \n",
    "    elif(x>-10&x<=-9):\n",
    "         num = 7; den = 100000\n",
    "    elif(x<=-10):\n",
    "         num =0 ; den =1\n",
    "    num = 24*pow(x,4)+ 24*pow(x,3)+12*pow(x,2)+8*x+1\n",
    "    den = 48*pow(x,4)+ 24*pow(x,3)+12*pow(x,2)+8*x+1\n",
    "    return num,den"
   ]
  },
  {
   "cell_type": "code",
   "execution_count": 113,
   "id": "another-ozone",
   "metadata": {},
   "outputs": [],
   "source": [
    "#define derivative\n",
    "# def sigmoid_derivative(x):\n",
    "#     return sigmoidfrac(x)*(1-sigmoidfrac(x))"
   ]
  },
  {
   "cell_type": "markdown",
   "id": "premier-lying",
   "metadata": {},
   "source": [
    "# Multiply weights with Inputs and add bias"
   ]
  },
  {
   "cell_type": "code",
   "execution_count": 114,
   "id": "minimal-relief",
   "metadata": {},
   "outputs": [
    {
     "name": "stdout",
     "output_type": "stream",
     "text": [
      "(7, 3)\n",
      "(3, 1)\n",
      "printing dot product [[36.]\n",
      " [33.]\n",
      " [38.]\n",
      " [49.]\n",
      " [58.]\n",
      " [45.]\n",
      " [33.]]\n"
     ]
    }
   ],
   "source": [
    "#multiply inputs\n",
    "print(input_set.shape)\n",
    "print(weights.shape)\n",
    "inputs = input_set  # set aside the original input\n",
    "XW = np.dot(inputs, weights)//100\n",
    "XW = (XW + bias)\n",
    "# print (XW)# dot product of input and add bias\n",
    "print(\"printing dot product\",XW)"
   ]
  },
  {
   "cell_type": "code",
   "execution_count": 115,
   "id": "covered-lancaster",
   "metadata": {},
   "outputs": [],
   "source": [
    "# define derivative\n",
    "def sigmoid_derivative(x):\n",
    "    return (x*(100-x))"
   ]
  },
  {
   "cell_type": "markdown",
   "id": "quality-metropolitan",
   "metadata": {},
   "source": [
    "# Get Sigmoid outputs"
   ]
  },
  {
   "cell_type": "code",
   "execution_count": 116,
   "id": "sticky-edinburgh",
   "metadata": {},
   "outputs": [
    {
     "name": "stdout",
     "output_type": "stream",
     "text": [
      "sigmoid output is: [[40.]\n",
      " [40.]\n",
      " [40.]\n",
      " [50.]\n",
      " [60.]\n",
      " [50.]\n",
      " [40.]]\n"
     ]
    }
   ],
   "source": [
    "#get sigmoid derivative\n",
    "#z = sigmoidfrac(XW)  #sigmoid activation function\n",
    "z=np.zeros([7,1])\n",
    "\n",
    "for i in range(7):\n",
    "    a = sigmoidfrac(XW[i])\n",
    "    z[i] = a\n",
    "    \n",
    "print (\"sigmoid output is:\",z )\n"
   ]
  },
  {
   "cell_type": "markdown",
   "id": "collectible-evans",
   "metadata": {},
   "source": [
    "# Calculating cost/error"
   ]
  },
  {
   "cell_type": "code",
   "execution_count": 117,
   "id": "metric-problem",
   "metadata": {
    "scrolled": true
   },
   "outputs": [
    {
     "name": "stdout",
     "output_type": "stream",
     "text": [
      "error is  [[20.]\n",
      " [30.]\n",
      " [30.]\n",
      " [30.]\n",
      " [40.]\n",
      " [40.]\n",
      " [20.]]\n",
      "error sum is 210.0\n"
     ]
    }
   ],
   "source": [
    "\n",
    "error = z - labels  #backprop step1\n",
    "print (\"error is \",error)\n",
    "print(\"error sum is\",error.sum())   #backpro step 2\n",
    "\n"
   ]
  },
  {
   "cell_type": "code",
   "execution_count": 118,
   "id": "excellent-perception",
   "metadata": {},
   "outputs": [],
   "source": [
    "# dpred = np.zeros([7,2])\n",
    "# for i in range(len(dpred)):\n",
    "#     dpred[i][0] = z[i][0] * (1 - )"
   ]
  },
  {
   "cell_type": "markdown",
   "id": "super-gentleman",
   "metadata": {},
   "source": [
    "# Get derivative"
   ]
  },
  {
   "cell_type": "code",
   "execution_count": 119,
   "id": "medium-seattle",
   "metadata": {},
   "outputs": [
    {
     "name": "stdout",
     "output_type": "stream",
     "text": [
      "sigmoid derivative is  [[2400.]\n",
      " [2400.]\n",
      " [2400.]\n",
      " [2500.]\n",
      " [2400.]\n",
      " [2500.]\n",
      " [2400.]]\n"
     ]
    }
   ],
   "source": [
    "#calculate derivative\n",
    "dpred = np.zeros([7,1])\n",
    "dcost = error\n",
    "for i in range(7):\n",
    "    dpred[i] = sigmoid_derivative(z[i])\n",
    "print(\"sigmoid derivative is \",dpred)"
   ]
  },
  {
   "cell_type": "code",
   "execution_count": 120,
   "id": "informative-extra",
   "metadata": {},
   "outputs": [
    {
     "name": "stdout",
     "output_type": "stream",
     "text": [
      "[[ 48000.]\n",
      " [ 72000.]\n",
      " [ 72000.]\n",
      " [ 75000.]\n",
      " [ 96000.]\n",
      " [100000.]\n",
      " [ 48000.]]\n"
     ]
    }
   ],
   "source": [
    "#Calculate new weight\n",
    "#slope = input*dcost*dpred\n",
    "SL1 = dcost * dpred\n",
    "print(SL1)\n"
   ]
  },
  {
   "cell_type": "markdown",
   "id": "positive-adaptation",
   "metadata": {},
   "source": [
    "# Get New Weights"
   ]
  },
  {
   "cell_type": "code",
   "execution_count": 121,
   "id": "appropriate-tunnel",
   "metadata": {},
   "outputs": [
    {
     "name": "stdout",
     "output_type": "stream",
     "text": [
      "[-25549994.]\n",
      "[[-4.20149963e+08]\n",
      " [-5.00149905e+08]\n",
      " [-4.64649927e+08]]\n"
     ]
    }
   ],
   "source": [
    "inputs = input_set.T\n",
    "weights = weights - lr*np.dot(inputs, SL1)\n",
    "    \n",
    "for num in SL1:\n",
    "    bias = bias - lr*num\n",
    "print(bias)\n",
    "print(weights)\n",
    "\n",
    "#weights are ending up being negative, need to discuss resolution on this."
   ]
  },
  {
   "cell_type": "code",
   "execution_count": 122,
   "id": "exterior-times",
   "metadata": {},
   "outputs": [
    {
     "ename": "ValueError",
     "evalue": "cannot copy sequence with size 2 to array axis with dimension 1",
     "output_type": "error",
     "traceback": [
      "\u001b[1;31m---------------------------------------------------------------------------\u001b[0m",
      "\u001b[1;31mValueError\u001b[0m                                Traceback (most recent call last)",
      "\u001b[1;32m<ipython-input-122-3250d80caec9>\u001b[0m in \u001b[0;36m<module>\u001b[1;34m\u001b[0m\n\u001b[0;32m      8\u001b[0m     \u001b[1;32mfor\u001b[0m \u001b[0mi\u001b[0m \u001b[1;32min\u001b[0m \u001b[0mrange\u001b[0m\u001b[1;33m(\u001b[0m\u001b[1;36m7\u001b[0m\u001b[1;33m)\u001b[0m\u001b[1;33m:\u001b[0m\u001b[1;33m\u001b[0m\u001b[1;33m\u001b[0m\u001b[0m\n\u001b[0;32m      9\u001b[0m         \u001b[0ma\u001b[0m \u001b[1;33m=\u001b[0m \u001b[0msigmoidfrac\u001b[0m\u001b[1;33m(\u001b[0m\u001b[0mXW\u001b[0m\u001b[1;33m[\u001b[0m\u001b[0mi\u001b[0m\u001b[1;33m]\u001b[0m\u001b[1;33m)\u001b[0m\u001b[1;33m\u001b[0m\u001b[1;33m\u001b[0m\u001b[0m\n\u001b[1;32m---> 10\u001b[1;33m         \u001b[0mz\u001b[0m\u001b[1;33m[\u001b[0m\u001b[0mi\u001b[0m\u001b[1;33m]\u001b[0m \u001b[1;33m=\u001b[0m \u001b[0ma\u001b[0m\u001b[1;33m\u001b[0m\u001b[1;33m\u001b[0m\u001b[0m\n\u001b[0m\u001b[0;32m     11\u001b[0m     \u001b[0mprint\u001b[0m \u001b[1;33m(\u001b[0m\u001b[1;34m\"sigmoid output is:\"\u001b[0m\u001b[1;33m,\u001b[0m\u001b[0mz\u001b[0m \u001b[1;33m)\u001b[0m\u001b[1;33m\u001b[0m\u001b[1;33m\u001b[0m\u001b[0m\n\u001b[0;32m     12\u001b[0m     \u001b[0mprint\u001b[0m \u001b[1;33m(\u001b[0m\u001b[1;34m\"sigmoid output is:\"\u001b[0m\u001b[1;33m,\u001b[0m\u001b[0mz\u001b[0m \u001b[1;33m)\u001b[0m\u001b[1;33m\u001b[0m\u001b[1;33m\u001b[0m\u001b[0m\n",
      "\u001b[1;31mValueError\u001b[0m: cannot copy sequence with size 2 to array axis with dimension 1"
     ]
    }
   ],
   "source": [
    "# train ANN model and this accumulation of earlier step\n",
    "for epoch in range(10):\n",
    "    inputs = input_set  # set aside the original input\n",
    "    XW = np.dot(inputs, weights)+ bias  # dot product of input and add bias\n",
    "    #     print(\"printing dot product\",XW)\n",
    "#     z = sigmoid(XW)  #sigmoid activation function\n",
    "    z=np.zeros([7,1])\n",
    "    for i in range(7):\n",
    "        a = sigmoidfrac(XW[i])\n",
    "        z[i] = a\n",
    "    print (\"sigmoid output is:\",z )\n",
    "    print (\"sigmoid output is:\",z )\n",
    "    error = z - labels  #backprop step1\n",
    "    print (\"error is \",error)\n",
    "    print(\"error sum is\",error.sum())   #backpro step 2\n",
    "    dcost = error\n",
    "    dpred = sigmoid_derivative(z)\n",
    "    print(\"sigmoid derivative is \",dpred)\n",
    "    z_del = dcost * dpred\n",
    "    inputs = input_set.T\n",
    "    weights = weights - lr*np.dot(inputs, z_del)\n",
    "    \n",
    "    for num in z_del:\n",
    "        bias = bias - lr*num"
   ]
  },
  {
   "cell_type": "code",
   "execution_count": 15,
   "id": "administrative-corporation",
   "metadata": {},
   "outputs": [
    {
     "name": "stdout",
     "output_type": "stream",
     "text": [
      "(3, 7)\n",
      "(3, 2)\n"
     ]
    }
   ],
   "source": [
    "print(inputs.shape)\n",
    "print(weights.shape)\n"
   ]
  },
  {
   "cell_type": "markdown",
   "id": "sudden-precipitation",
   "metadata": {},
   "source": [
    "# Perform Prediction"
   ]
  },
  {
   "cell_type": "code",
   "execution_count": 16,
   "id": "distinguished-ferry",
   "metadata": {},
   "outputs": [
    {
     "name": "stdout",
     "output_type": "stream",
     "text": [
      "(3,)\n",
      "(2,)\n",
      "(3, 2)\n",
      "[  3800. 544165.]\n"
     ]
    }
   ],
   "source": [
    "\n",
    "single_pt = np.array([30,20,10])\n",
    "input1 = np.dot(single_pt, weights) + bias\n",
    "print(single_pt.shape)\n",
    "print(input1.shape)\n",
    "print(weights.shape)\n",
    "print(input1)\n",
    "# num,den = sigmoidfrac()\n",
    "# print(num,den)"
   ]
  },
  {
   "cell_type": "code",
   "execution_count": 19,
   "id": "intense-integer",
   "metadata": {},
   "outputs": [
    {
     "name": "stdout",
     "output_type": "stream",
     "text": [
      "0 1\n",
      "0 1\n"
     ]
    }
   ],
   "source": [
    "single_pt = np.array([30,30,20])\n",
    "num1,den1 = sigmoidfrac(input1[0])\n",
    "num2,den2 = sigmoidfrac(input1[1])\n",
    "\n",
    "print(num1,den1)\n",
    "print(num2,den2)"
   ]
  },
  {
   "cell_type": "code",
   "execution_count": null,
   "id": "complex-desire",
   "metadata": {},
   "outputs": [],
   "source": [
    "single_pt = np.array([30,30,20])\n",
    "num,den = sigmoidfrac(np.dot(single_pt, weights) + bias)\n",
    "print(num,den)"
   ]
  }
 ],
 "metadata": {
  "kernelspec": {
   "display_name": "Python 3",
   "language": "python",
   "name": "python3"
  },
  "language_info": {
   "codemirror_mode": {
    "name": "ipython",
    "version": 3
   },
   "file_extension": ".py",
   "mimetype": "text/x-python",
   "name": "python",
   "nbconvert_exporter": "python",
   "pygments_lexer": "ipython3",
   "version": "3.9.2"
  }
 },
 "nbformat": 4,
 "nbformat_minor": 5
}
