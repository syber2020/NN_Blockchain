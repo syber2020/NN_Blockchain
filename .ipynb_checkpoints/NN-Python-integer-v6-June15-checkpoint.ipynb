{
 "cells": [
  {
   "cell_type": "markdown",
   "id": "soviet-prototype",
   "metadata": {},
   "source": [
    "# Get Inputs"
   ]
  },
  {
   "cell_type": "code",
   "execution_count": null,
   "id": "employed-omaha",
   "metadata": {},
   "outputs": [],
   "source": [
    "# #Independent variables\n",
    "# import numpy as np\n",
    "\n",
    "# input_set = np.array([[10,20,10],\n",
    "#                       [10,10,20],\n",
    "#                       [20,15,15],\n",
    "#                       [25,25,15],\n",
    "#                       [24,24,28],\n",
    "#                       [12,22,20],\n",
    "#                       [8,18,10]])#Dependent variable\n",
    "# labels = np.array([[200,\n",
    "#                     100,\n",
    "#                     100,\n",
    "#                     200,\n",
    "#                     200,\n",
    "#                     100,\n",
    "#                     200]])    # no need to scale, need original label\n",
    "# labels = labels.reshape(7,1) #to convert labels to vector"
   ]
  },
  {
   "cell_type": "code",
   "execution_count": null,
   "id": "fixed-consumption",
   "metadata": {},
   "outputs": [],
   "source": [
    "#Independent variables\n",
    "import random\n",
    "import numpy as np\n",
    "input_set = np.array([[0,1,0],\n",
    "                      [0,0,1],\n",
    "                      [1,0,0],\n",
    "                      [1,1,0],\n",
    "                      [1,1,1],\n",
    "                      [0,1,1],\n",
    "                      [0,1,0]])#Dependent variable\n",
    "labels = np.array([[1,\n",
    "                    0,\n",
    "                    0,\n",
    "                    1,\n",
    "                    1,\n",
    "                    0,\n",
    "                    1]])\n",
    "labels = labels.reshape(7,1) #to convert labels to vector"
   ]
  },
  {
   "cell_type": "code",
   "execution_count": 153,
   "id": "accepting-cocktail",
   "metadata": {},
   "outputs": [
    {
     "name": "stdout",
     "output_type": "stream",
     "text": [
      "<class 'numpy.ndarray'>\n",
      "<class 'numpy.ndarray'>\n",
      "3\n"
     ]
    }
   ],
   "source": [
    "print(type(input_set))\n",
    "print(type(labels))\n",
    "print(input_set.shape[1])"
   ]
  },
  {
   "cell_type": "code",
   "execution_count": 154,
   "id": "acting-religious",
   "metadata": {},
   "outputs": [
    {
     "name": "stdout",
     "output_type": "stream",
     "text": [
      "3\n",
      "1\n",
      "3.5\n",
      "3\n"
     ]
    }
   ],
   "source": [
    "x = 7\n",
    "y = 2\n",
    "print(x//y)\n",
    "print(x%y)\n",
    "print(x/y)\n",
    "print(int(x/y))"
   ]
  },
  {
   "cell_type": "code",
   "execution_count": 155,
   "id": "pediatric-asian",
   "metadata": {},
   "outputs": [
    {
     "name": "stdout",
     "output_type": "stream",
     "text": [
      "-3.5\n",
      "-4\n",
      "1\n"
     ]
    }
   ],
   "source": [
    "x = -7\n",
    "y = 2\n",
    "print(x/y)\n",
    "print(x//y)\n",
    "print(x%y)"
   ]
  },
  {
   "cell_type": "code",
   "execution_count": 156,
   "id": "complete-contamination",
   "metadata": {},
   "outputs": [
    {
     "name": "stdout",
     "output_type": "stream",
     "text": [
      "-3\n",
      "1\n"
     ]
    }
   ],
   "source": [
    "x = -7\n",
    "y = 2\n",
    "z = int(x/y)\n",
    "print(z)\n",
    "print(x%y)"
   ]
  },
  {
   "cell_type": "markdown",
   "id": "southwest-census",
   "metadata": {},
   "source": [
    "# Get Parameters"
   ]
  },
  {
   "cell_type": "code",
   "execution_count": 157,
   "id": "fantastic-chile",
   "metadata": {},
   "outputs": [
    {
     "name": "stdout",
     "output_type": "stream",
     "text": [
      "<class 'list'>\n"
     ]
    }
   ],
   "source": [
    "#Define Hyperparameters\n",
    "#considering no fractions\n",
    "np.random.seed(42)\n",
    "weights = np.round(np.random.rand(3,1) *100)\n",
    "bias= np.round(np.random.rand(1)*100)\n",
    "lr = [5,100] #learning rate\n",
    "print(type(lr))"
   ]
  },
  {
   "cell_type": "code",
   "execution_count": 158,
   "id": "judicial-quarter",
   "metadata": {},
   "outputs": [
    {
     "name": "stdout",
     "output_type": "stream",
     "text": [
      "[[ 77. 100.]\n",
      " [  2. 100.]\n",
      " [ 63. 100.]]\n",
      "[ 75. 100.]\n"
     ]
    }
   ],
   "source": [
    "weights = np.zeros((3,2))\n",
    "np.random.seed(10)\n",
    "for i in range(3):\n",
    "    weights[i][0] = np.round(np.random.rand(1)*100)\n",
    "    weights[i][1] = 100\n",
    "bias = np.zeros(2)\n",
    "bias[0] = np.round(np.random.rand(1)*100)\n",
    "bias[1] = 100 \n",
    "print(weights)\n",
    "print(bias)               "
   ]
  },
  {
   "cell_type": "code",
   "execution_count": 159,
   "id": "activated-timer",
   "metadata": {},
   "outputs": [],
   "source": [
    "# #multiplying inputs with weights in matrices \n",
    "# def addfrac(a,b,c,d,e,f):\n",
    "#     num = a*d*f + c*b*f+e*b*d\n",
    "#     den = b*d*f\n",
    "#     return num,den"
   ]
  },
  {
   "cell_type": "code",
   "execution_count": 160,
   "id": "violent-removal",
   "metadata": {},
   "outputs": [],
   "source": [
    "#define activation function\n",
    "# def sigmoid(x):\n",
    "#     return 1/(1+np.exp(-x))"
   ]
  },
  {
   "cell_type": "markdown",
   "id": "wound-explorer",
   "metadata": {},
   "source": [
    "# Define Sigmoid Function"
   ]
  },
  {
   "cell_type": "code",
   "execution_count": 195,
   "id": "pediatric-anger",
   "metadata": {},
   "outputs": [],
   "source": [
    "# taylor series works when x<1\n",
    "# Assumption based on values of x\n",
    "# need to check the bwlow formulas of taylor series one more time\n",
    "def sigmoidfrac(x,y):\n",
    "    if(x/y>=10):\n",
    "        num = 1; den = 1\n",
    "    elif((x/y)>=9 and (x/y)<10):\n",
    "        num = 99988; den = 100000\n",
    "    elif((x/y)>=8 and (x/y)<9):\n",
    "        num = 99966; den = 100000\n",
    "    elif((x/y)>=7 and (x/y)<8):\n",
    "        num = 99909; den = 100000\n",
    "    elif((x/y)>=6 and (x/y)<7):\n",
    "        num = 99753; den = 100000\n",
    "    elif((x/y)>=5 and (x/y)<6):\n",
    "        num = 99331; den = 100000\n",
    "    elif((x/y)>=1 and (x/y)<5):\n",
    "        q = int(x/y) \n",
    "        r = x%y\n",
    "        num= pow(19,q)*24*pow(y,4)\n",
    "        den= pow(19,q)*24*pow(y,4)+pow(7,q)*(24*pow(y,4)-24*r*pow(y,3)+12*pow(r,2)*pow(y,2)-4*y*pow(r,3)+pow(r,4))    \n",
    "    elif(x/y>-1 and x/y<1):\n",
    "        num= 24*pow(y,4)\n",
    "        den= 48*pow(y,4)-24*x*pow(y,3)+12*pow(x,2)*pow(y,2)-4*y*pow(x,3)+pow(x,4)   \n",
    "    elif(x/y>-6 and x/y<=-1):\n",
    "        q = int(x/y) \n",
    "        r = x%y\n",
    "        num = 24*pow(y,4)*pow(7,-q)\n",
    "        den = 24*pow(y,4)*pow(7,-q)+pow(19,-q)*(24*pow(y,4)+24*r*pow(y,3)+12*pow(r,2)*pow(y,2)+4*y*pow(r,3)+pow(r,4))\n",
    "    elif(x/y>-7 and x/y<=-6):\n",
    "        num =15; den= 10000 \n",
    "    elif(x/y>-8 and x/y<=-7):\n",
    "        num =6; den = 10000     \n",
    "    elif(x/y>-9 and x/y<=-8):\n",
    "        num =2; den = 10000 \n",
    "    elif(x/y>-10 and x/y<=-9):\n",
    "         num = 7; den = 100000\n",
    "    elif(x/y<=-10):\n",
    "         num =0 ; den =1\n",
    "    return num,den"
   ]
  },
  {
   "cell_type": "code",
   "execution_count": 196,
   "id": "deluxe-canvas",
   "metadata": {},
   "outputs": [],
   "source": [
    "# Python Program to find the L.C.M. of two input number\n",
    "def compute_lcm(x, y):\n",
    "   # choose the greater number\n",
    "   if x > y:\n",
    "       greater = x\n",
    "   else:\n",
    "       greater = y\n",
    "   while(True):\n",
    "       if((greater % x == 0) and (greater % y == 0)):\n",
    "           lcm = greater\n",
    "           break\n",
    "       greater += 1\n",
    "   return lcm"
   ]
  },
  {
   "cell_type": "code",
   "execution_count": 197,
   "id": "another-ozone",
   "metadata": {},
   "outputs": [],
   "source": [
    "# define derivative\n",
    "def sigmoid_derivative(x,y):\n",
    "    num = x*y-pow(x,2)\n",
    "    den = pow(y,2)\n",
    "    return num,den"
   ]
  },
  {
   "cell_type": "code",
   "execution_count": 198,
   "id": "departmental-minnesota",
   "metadata": {},
   "outputs": [],
   "source": [
    "#adding num and den version of the form a/b and c/d\n",
    "def addition(a,b,c,d):\n",
    "    den = compute_lcm(b,d)\n",
    "    num = ((den/b)*a) + ((den/d)*c)\n",
    "#     print(num,den)\n",
    "    return float(num),float(den)\n",
    "        "
   ]
  },
  {
   "cell_type": "code",
   "execution_count": 199,
   "id": "neither-dragon",
   "metadata": {},
   "outputs": [],
   "source": [
    "def multiply_xwb(x,y,bn,bd):\n",
    "    t = np.zeros((7,2))\n",
    "    for i in range(x.shape[0]):\n",
    "        t1 = (x[i][0]*y[0][0])\n",
    "        t2 = y[0][1]\n",
    "        t3 = (x[i][1]*y[1][0])\n",
    "        t4 = y[1][1]\n",
    "        t1,t2 = addition(t1,t2,t3,t4)\n",
    "        t3 = (x[i][2]*y[2][0])\n",
    "        t4 = y[2][1]\n",
    "        t1,t2 = addition(t1,t2,t3,t4)\n",
    "        num,den = addition(t1,t2,bn,bd)\n",
    "        t[i][0]= float(num)\n",
    "        t[i][1]= float(den)\n",
    "    return t"
   ]
  },
  {
   "cell_type": "code",
   "execution_count": 200,
   "id": "intimate-revolution",
   "metadata": {},
   "outputs": [],
   "source": [
    "def subtraction(a,b,c,d):\n",
    "    den = compute_lcm(b,d)\n",
    "#     print(\"lcm is \",den)\n",
    "    num = ((den/b)*a) - ((den/d)*c)\n",
    "    return num,den"
   ]
  },
  {
   "cell_type": "code",
   "execution_count": 201,
   "id": "seeing-scheduling",
   "metadata": {},
   "outputs": [],
   "source": [
    "def multiply(a,b,c,d): # of the form a/b * c/d\n",
    "    num = a*c\n",
    "    den = b*d\n",
    "    return num,den"
   ]
  },
  {
   "cell_type": "code",
   "execution_count": 202,
   "id": "visible-humor",
   "metadata": {},
   "outputs": [],
   "source": [
    "import math\n",
    "def arraylcm(a):\n",
    "  lcm = a[0]\n",
    "  for i in range(1,len(a)):\n",
    "    lcm = lcm*a[i]//math.gcd(lcm, a[i])\n",
    "  return lcm"
   ]
  },
  {
   "cell_type": "markdown",
   "id": "premier-lying",
   "metadata": {},
   "source": [
    "# Multiply weights with Inputs and add bias"
   ]
  },
  {
   "cell_type": "code",
   "execution_count": 203,
   "id": "distant-disaster",
   "metadata": {},
   "outputs": [
    {
     "name": "stdout",
     "output_type": "stream",
     "text": [
      "[[4.78109147e+13 1.05406704e+14]\n",
      " [1.08425040e+14 1.05406704e+14]\n",
      " [1.25351248e+14 1.05406704e+14]\n",
      " [1.27743981e+14 1.05406704e+14]\n",
      " [1.90750838e+14 1.05406704e+14]\n",
      " [1.10817772e+14 1.05406704e+14]\n",
      " [4.78109147e+13 1.05406704e+14]]\n"
     ]
    }
   ],
   "source": [
    "#Multiply inputs into weights.\n",
    "XW = multiply_xwb(input_set,weights,bias[0],bias[1])\n",
    "print(XW)"
   ]
  },
  {
   "cell_type": "code",
   "execution_count": 204,
   "id": "minimal-relief",
   "metadata": {},
   "outputs": [
    {
     "name": "stdout",
     "output_type": "stream",
     "text": [
      "printing dot product [[4.78109147e+13 1.05406704e+14]\n",
      " [1.08425040e+14 1.05406704e+14]\n",
      " [1.25351248e+14 1.05406704e+14]\n",
      " [1.27743981e+14 1.05406704e+14]\n",
      " [1.90750838e+14 1.05406704e+14]\n",
      " [1.10817772e+14 1.05406704e+14]\n",
      " [4.78109147e+13 1.05406704e+14]]\n"
     ]
    }
   ],
   "source": [
    "print(\"printing dot product\",XW)"
   ]
  },
  {
   "cell_type": "code",
   "execution_count": 205,
   "id": "covered-lancaster",
   "metadata": {},
   "outputs": [],
   "source": [
    "# define derivative\n",
    "# def sigmoid_derivative(x):\n",
    "#     return (x*(100-x))"
   ]
  },
  {
   "cell_type": "markdown",
   "id": "quality-metropolitan",
   "metadata": {},
   "source": [
    "# Get Sigmoid outputs for XW"
   ]
  },
  {
   "cell_type": "code",
   "execution_count": 206,
   "id": "sticky-edinburgh",
   "metadata": {
    "scrolled": true
   },
   "outputs": [
    {
     "ename": "ValueError",
     "evalue": "invalid literal for int() with base 10: '2.9'",
     "output_type": "error",
     "traceback": [
      "\u001b[1;31m---------------------------------------------------------------------------\u001b[0m",
      "\u001b[1;31mValueError\u001b[0m                                Traceback (most recent call last)",
      "\u001b[1;32m<ipython-input-206-b76c83cf0392>\u001b[0m in \u001b[0;36m<module>\u001b[1;34m\u001b[0m\n\u001b[0;32m      5\u001b[0m     \u001b[0ma\u001b[0m\u001b[1;33m,\u001b[0m\u001b[0mb\u001b[0m \u001b[1;33m=\u001b[0m \u001b[0msigmoidfrac\u001b[0m\u001b[1;33m(\u001b[0m\u001b[0mXW\u001b[0m\u001b[1;33m[\u001b[0m\u001b[0mi\u001b[0m\u001b[1;33m]\u001b[0m\u001b[1;33m[\u001b[0m\u001b[1;36m0\u001b[0m\u001b[1;33m]\u001b[0m\u001b[1;33m,\u001b[0m\u001b[0mXW\u001b[0m\u001b[1;33m[\u001b[0m\u001b[0mi\u001b[0m\u001b[1;33m]\u001b[0m\u001b[1;33m[\u001b[0m\u001b[1;36m1\u001b[0m\u001b[1;33m]\u001b[0m\u001b[1;33m)\u001b[0m\u001b[1;33m\u001b[0m\u001b[1;33m\u001b[0m\u001b[0m\n\u001b[0;32m      6\u001b[0m \u001b[1;31m#     print(a,b)\u001b[0m\u001b[1;33m\u001b[0m\u001b[1;33m\u001b[0m\u001b[1;33m\u001b[0m\u001b[0m\n\u001b[1;32m----> 7\u001b[1;33m     \u001b[0mz\u001b[0m\u001b[1;33m[\u001b[0m\u001b[0mi\u001b[0m\u001b[1;33m]\u001b[0m\u001b[1;33m[\u001b[0m\u001b[1;36m0\u001b[0m\u001b[1;33m]\u001b[0m \u001b[1;33m=\u001b[0m \u001b[0mint\u001b[0m\u001b[1;33m(\u001b[0m\u001b[0mstr\u001b[0m\u001b[1;33m(\u001b[0m\u001b[0ma\u001b[0m\u001b[1;33m)\u001b[0m\u001b[1;33m[\u001b[0m\u001b[1;33m:\u001b[0m\u001b[1;36m3\u001b[0m\u001b[1;33m]\u001b[0m\u001b[1;33m)\u001b[0m\u001b[1;33m\u001b[0m\u001b[1;33m\u001b[0m\u001b[0m\n\u001b[0m\u001b[0;32m      8\u001b[0m     \u001b[0mz\u001b[0m\u001b[1;33m[\u001b[0m\u001b[0mi\u001b[0m\u001b[1;33m]\u001b[0m\u001b[1;33m[\u001b[0m\u001b[1;36m1\u001b[0m\u001b[1;33m]\u001b[0m \u001b[1;33m=\u001b[0m \u001b[0mint\u001b[0m\u001b[1;33m(\u001b[0m\u001b[0mstr\u001b[0m\u001b[1;33m(\u001b[0m\u001b[0mb\u001b[0m\u001b[1;33m)\u001b[0m\u001b[1;33m[\u001b[0m\u001b[1;33m:\u001b[0m\u001b[1;36m3\u001b[0m\u001b[1;33m]\u001b[0m\u001b[1;33m)\u001b[0m\u001b[1;33m\u001b[0m\u001b[1;33m\u001b[0m\u001b[0m\n\u001b[0;32m      9\u001b[0m \u001b[0mprint\u001b[0m \u001b[1;33m(\u001b[0m\u001b[1;34m\"sigmoid output is:\"\u001b[0m\u001b[1;33m,\u001b[0m\u001b[0mz\u001b[0m \u001b[1;33m)\u001b[0m\u001b[1;33m\u001b[0m\u001b[1;33m\u001b[0m\u001b[0m\n",
      "\u001b[1;31mValueError\u001b[0m: invalid literal for int() with base 10: '2.9'"
     ]
    }
   ],
   "source": [
    "# #get sigmoid derivative\n",
    "# z = sigmoidfrac(XW)  #sigmoid activation function\n",
    "z=np.zeros((7,2))\n",
    "for i in range(XW.shape[0]):\n",
    "    a,b = sigmoidfrac(XW[i][0],XW[i][1])\n",
    "#     print(a,b)\n",
    "    z[i][0] = int(str(a)[:3]) \n",
    "    z[i][1] = int(str(b)[:3])\n",
    "print (\"sigmoid output is:\",z )\n"
   ]
  },
  {
   "cell_type": "markdown",
   "id": "collectible-evans",
   "metadata": {},
   "source": [
    "# Calculating cost/error"
   ]
  },
  {
   "cell_type": "code",
   "execution_count": 207,
   "id": "metric-problem",
   "metadata": {
    "scrolled": true
   },
   "outputs": [
    {
     "name": "stderr",
     "output_type": "stream",
     "text": [
      "<ipython-input-196-da7ba5e8e76d>:9: RuntimeWarning: invalid value encountered in double_scalars\n",
      "  if((greater % x == 0) and (greater % y == 0)):\n"
     ]
    },
    {
     "ename": "KeyboardInterrupt",
     "evalue": "",
     "output_type": "error",
     "traceback": [
      "\u001b[1;31m---------------------------------------------------------------------------\u001b[0m",
      "\u001b[1;31mKeyboardInterrupt\u001b[0m                         Traceback (most recent call last)",
      "\u001b[1;32m<ipython-input-207-645a9711e08f>\u001b[0m in \u001b[0;36m<module>\u001b[1;34m\u001b[0m\n\u001b[0;32m      1\u001b[0m \u001b[0merror\u001b[0m \u001b[1;33m=\u001b[0m \u001b[0mnp\u001b[0m\u001b[1;33m.\u001b[0m\u001b[0mzeros\u001b[0m\u001b[1;33m(\u001b[0m\u001b[1;33m(\u001b[0m\u001b[1;36m7\u001b[0m\u001b[1;33m,\u001b[0m\u001b[1;36m2\u001b[0m\u001b[1;33m)\u001b[0m\u001b[1;33m)\u001b[0m\u001b[1;33m\u001b[0m\u001b[1;33m\u001b[0m\u001b[0m\n\u001b[0;32m      2\u001b[0m \u001b[1;32mfor\u001b[0m \u001b[0mi\u001b[0m \u001b[1;32min\u001b[0m \u001b[0mrange\u001b[0m \u001b[1;33m(\u001b[0m\u001b[0merror\u001b[0m\u001b[1;33m.\u001b[0m\u001b[0mshape\u001b[0m\u001b[1;33m[\u001b[0m\u001b[1;36m0\u001b[0m\u001b[1;33m]\u001b[0m\u001b[1;33m)\u001b[0m\u001b[1;33m:\u001b[0m\u001b[1;33m\u001b[0m\u001b[1;33m\u001b[0m\u001b[0m\n\u001b[1;32m----> 3\u001b[1;33m     \u001b[0mnum\u001b[0m\u001b[1;33m,\u001b[0m\u001b[0mden\u001b[0m \u001b[1;33m=\u001b[0m \u001b[0msubtraction\u001b[0m\u001b[1;33m(\u001b[0m\u001b[0mz\u001b[0m\u001b[1;33m[\u001b[0m\u001b[0mi\u001b[0m\u001b[1;33m]\u001b[0m\u001b[1;33m[\u001b[0m\u001b[1;36m0\u001b[0m\u001b[1;33m]\u001b[0m\u001b[1;33m,\u001b[0m\u001b[0mz\u001b[0m\u001b[1;33m[\u001b[0m\u001b[0mi\u001b[0m\u001b[1;33m]\u001b[0m\u001b[1;33m[\u001b[0m\u001b[1;36m1\u001b[0m\u001b[1;33m]\u001b[0m\u001b[1;33m,\u001b[0m\u001b[0mlabels\u001b[0m\u001b[1;33m[\u001b[0m\u001b[0mi\u001b[0m\u001b[1;33m]\u001b[0m\u001b[1;33m,\u001b[0m\u001b[1;36m1\u001b[0m\u001b[1;33m,\u001b[0m\u001b[1;33m)\u001b[0m\u001b[1;33m\u001b[0m\u001b[1;33m\u001b[0m\u001b[0m\n\u001b[0m\u001b[0;32m      4\u001b[0m     \u001b[0merror\u001b[0m\u001b[1;33m[\u001b[0m\u001b[0mi\u001b[0m\u001b[1;33m]\u001b[0m\u001b[1;33m[\u001b[0m\u001b[1;36m0\u001b[0m\u001b[1;33m]\u001b[0m \u001b[1;33m=\u001b[0m \u001b[0mnum\u001b[0m\u001b[1;33m\u001b[0m\u001b[1;33m\u001b[0m\u001b[0m\n\u001b[0;32m      5\u001b[0m     \u001b[0merror\u001b[0m\u001b[1;33m[\u001b[0m\u001b[0mi\u001b[0m\u001b[1;33m]\u001b[0m\u001b[1;33m[\u001b[0m\u001b[1;36m1\u001b[0m\u001b[1;33m]\u001b[0m \u001b[1;33m=\u001b[0m \u001b[0mden\u001b[0m\u001b[1;33m\u001b[0m\u001b[1;33m\u001b[0m\u001b[0m\n",
      "\u001b[1;32m<ipython-input-200-60fe3b81b6ef>\u001b[0m in \u001b[0;36msubtraction\u001b[1;34m(a, b, c, d)\u001b[0m\n\u001b[0;32m      1\u001b[0m \u001b[1;32mdef\u001b[0m \u001b[0msubtraction\u001b[0m\u001b[1;33m(\u001b[0m\u001b[0ma\u001b[0m\u001b[1;33m,\u001b[0m\u001b[0mb\u001b[0m\u001b[1;33m,\u001b[0m\u001b[0mc\u001b[0m\u001b[1;33m,\u001b[0m\u001b[0md\u001b[0m\u001b[1;33m)\u001b[0m\u001b[1;33m:\u001b[0m\u001b[1;33m\u001b[0m\u001b[1;33m\u001b[0m\u001b[0m\n\u001b[1;32m----> 2\u001b[1;33m     \u001b[0mden\u001b[0m \u001b[1;33m=\u001b[0m \u001b[0mcompute_lcm\u001b[0m\u001b[1;33m(\u001b[0m\u001b[0mb\u001b[0m\u001b[1;33m,\u001b[0m\u001b[0md\u001b[0m\u001b[1;33m)\u001b[0m\u001b[1;33m\u001b[0m\u001b[1;33m\u001b[0m\u001b[0m\n\u001b[0m\u001b[0;32m      3\u001b[0m \u001b[1;31m#     print(\"lcm is \",den)\u001b[0m\u001b[1;33m\u001b[0m\u001b[1;33m\u001b[0m\u001b[1;33m\u001b[0m\u001b[0m\n\u001b[0;32m      4\u001b[0m     \u001b[0mnum\u001b[0m \u001b[1;33m=\u001b[0m \u001b[1;33m(\u001b[0m\u001b[1;33m(\u001b[0m\u001b[0mden\u001b[0m\u001b[1;33m/\u001b[0m\u001b[0mb\u001b[0m\u001b[1;33m)\u001b[0m\u001b[1;33m*\u001b[0m\u001b[0ma\u001b[0m\u001b[1;33m)\u001b[0m \u001b[1;33m-\u001b[0m \u001b[1;33m(\u001b[0m\u001b[1;33m(\u001b[0m\u001b[0mden\u001b[0m\u001b[1;33m/\u001b[0m\u001b[0md\u001b[0m\u001b[1;33m)\u001b[0m\u001b[1;33m*\u001b[0m\u001b[0mc\u001b[0m\u001b[1;33m)\u001b[0m\u001b[1;33m\u001b[0m\u001b[1;33m\u001b[0m\u001b[0m\n\u001b[0;32m      5\u001b[0m     \u001b[1;32mreturn\u001b[0m \u001b[0mnum\u001b[0m\u001b[1;33m,\u001b[0m\u001b[0mden\u001b[0m\u001b[1;33m\u001b[0m\u001b[1;33m\u001b[0m\u001b[0m\n",
      "\u001b[1;32m<ipython-input-196-da7ba5e8e76d>\u001b[0m in \u001b[0;36mcompute_lcm\u001b[1;34m(x, y)\u001b[0m\n\u001b[0;32m      7\u001b[0m        \u001b[0mgreater\u001b[0m \u001b[1;33m=\u001b[0m \u001b[0my\u001b[0m\u001b[1;33m\u001b[0m\u001b[1;33m\u001b[0m\u001b[0m\n\u001b[0;32m      8\u001b[0m    \u001b[1;32mwhile\u001b[0m\u001b[1;33m(\u001b[0m\u001b[1;32mTrue\u001b[0m\u001b[1;33m)\u001b[0m\u001b[1;33m:\u001b[0m\u001b[1;33m\u001b[0m\u001b[1;33m\u001b[0m\u001b[0m\n\u001b[1;32m----> 9\u001b[1;33m        \u001b[1;32mif\u001b[0m\u001b[1;33m(\u001b[0m\u001b[1;33m(\u001b[0m\u001b[0mgreater\u001b[0m \u001b[1;33m%\u001b[0m \u001b[0mx\u001b[0m \u001b[1;33m==\u001b[0m \u001b[1;36m0\u001b[0m\u001b[1;33m)\u001b[0m \u001b[1;32mand\u001b[0m \u001b[1;33m(\u001b[0m\u001b[0mgreater\u001b[0m \u001b[1;33m%\u001b[0m \u001b[0my\u001b[0m \u001b[1;33m==\u001b[0m \u001b[1;36m0\u001b[0m\u001b[1;33m)\u001b[0m\u001b[1;33m)\u001b[0m\u001b[1;33m:\u001b[0m\u001b[1;33m\u001b[0m\u001b[1;33m\u001b[0m\u001b[0m\n\u001b[0m\u001b[0;32m     10\u001b[0m            \u001b[0mlcm\u001b[0m \u001b[1;33m=\u001b[0m \u001b[0mgreater\u001b[0m\u001b[1;33m\u001b[0m\u001b[1;33m\u001b[0m\u001b[0m\n\u001b[0;32m     11\u001b[0m            \u001b[1;32mbreak\u001b[0m\u001b[1;33m\u001b[0m\u001b[1;33m\u001b[0m\u001b[0m\n",
      "\u001b[1;31mKeyboardInterrupt\u001b[0m: "
     ]
    }
   ],
   "source": [
    "error = np.zeros((7,2))\n",
    "for i in range (error.shape[0]):\n",
    "    num,den = subtraction(z[i][0],z[i][1],labels[i],1,)\n",
    "    error[i][0] = num\n",
    "    error[i][1] = den\n",
    "print(error)\n"
   ]
  },
  {
   "cell_type": "markdown",
   "id": "threaded-competition",
   "metadata": {},
   "source": [
    "# Get sigmoid of sigmoid outputof XW"
   ]
  },
  {
   "cell_type": "code",
   "execution_count": null,
   "id": "prescribed-record",
   "metadata": {},
   "outputs": [],
   "source": [
    "SD_input=np.zeros((7,2))\n",
    "for i in range(XW.shape[0]):\n",
    "    a,b = sigmoidfrac(z[i][0],z[i][1])\n",
    "#     print(a,b)\n",
    "    SD_input[i][0] = int(str(a)[:3]) \n",
    "    SD_input[i][1] = int(str(b)[:3])\n",
    "print (\"sigmoid output is:\",SD_input )"
   ]
  },
  {
   "cell_type": "markdown",
   "id": "super-gentleman",
   "metadata": {},
   "source": [
    "# Get derivative of SD_Input"
   ]
  },
  {
   "cell_type": "code",
   "execution_count": null,
   "id": "medium-seattle",
   "metadata": {},
   "outputs": [],
   "source": [
    "#calculate derivative\n",
    "SD = np.zeros((7,2))\n",
    "dcost = error\n",
    "for i in range(7):\n",
    "    x,y = sigmoid_derivative(SD_input[i][0], SD_input[i][1])\n",
    "    SD[i][0] =x\n",
    "    SD[i][1] =y\n",
    "    \n",
    "print(\"sigmoid derivative is \",SD)"
   ]
  },
  {
   "cell_type": "code",
   "execution_count": null,
   "id": "minor-dealer",
   "metadata": {},
   "outputs": [],
   "source": [
    "print(error)"
   ]
  },
  {
   "cell_type": "code",
   "execution_count": null,
   "id": "tough-action",
   "metadata": {},
   "outputs": [],
   "source": [
    "def mul_e_sd_i(x,y):\n",
    "    for i in range(x.shape[0]):\n",
    "        t1 = (x[i][0]*y[0][0])\n",
    "        t2 = y[0][1]\n",
    "        t3 = (x[i][1]*y[1][0])\n",
    "        t4 = y[1][1]\n",
    "        t1,t2 = addition(t1,t2,t3,t4)\n",
    "        t3 = (x[i][2]*y[2][0])\n",
    "        t4 = y[2][1]\n",
    "        t1,t2 = addition(t1,t2,t3,t4)\n",
    "        num,den = addition(t1,t2,bn,bd)\n",
    "        "
   ]
  },
  {
   "cell_type": "markdown",
   "id": "joined-somewhere",
   "metadata": {},
   "source": [
    "# Calculate error multiplied to SD multiplied to inputs"
   ]
  },
  {
   "cell_type": "code",
   "execution_count": 178,
   "id": "informative-extra",
   "metadata": {},
   "outputs": [
    {
     "data": {
      "text/plain": [
       "array([[ -705., 10000.],\n",
       "       [ 1713., 10000.],\n",
       "       [ 1750., 10000.],\n",
       "       [ -372., 10000.],\n",
       "       [ -211., 10000.],\n",
       "       [ 1723., 10000.],\n",
       "       [ -705., 10000.]])"
      ]
     },
     "execution_count": 178,
     "metadata": {},
     "output_type": "execute_result"
    }
   ],
   "source": [
    "\n",
    "l_res = np.zeros((7,2))\n",
    "res = np.zeros((7,2))\n",
    "for i in range(len(error)):\n",
    "    num = error[i][0]*SD[i][0]\n",
    "    den = error[i][1]*SD[i][1]\n",
    "    l_res[i][0] = num; l_res[i][1] = den\n",
    "\n",
    "for i in range(len(SD)):\n",
    "    res[i][0] = int((l_res[i][0]/l_res[i][1])*10000)\n",
    "    res[i][1] = 10000\n",
    "\n",
    "res"
   ]
  },
  {
   "cell_type": "code",
   "execution_count": 179,
   "id": "voluntary-myrtle",
   "metadata": {},
   "outputs": [
    {
     "name": "stdout",
     "output_type": "stream",
     "text": [
      "[[   5835. 1000000.]\n",
      " [  -1350. 1000000.]\n",
      " [  16125. 1000000.]]\n",
      "[[ 77. 100.]\n",
      " [  2. 100.]\n",
      " [ 63. 100.]]\n"
     ]
    }
   ],
   "source": [
    "inputs = input_set.T\n",
    "inp_res = np.zeros((3,2))\n",
    "num = 0\n",
    "den = 0\n",
    "for j in range(inputs.shape[0]):\n",
    "    for i in range(res.shape[0]):\n",
    "        num = num+ inputs[j][i]*res[i][0]*lr[0]\n",
    "        den = res[0][1]*lr[1]\n",
    "    inp_res[j][0] = num \n",
    "    inp_res[j][1] = den \n",
    "    num=0\n",
    "    den=0\n",
    "print(inp_res)\n",
    "print(weights)"
   ]
  },
  {
   "cell_type": "markdown",
   "id": "positive-adaptation",
   "metadata": {},
   "source": [
    "# Get New Weights and Bias"
   ]
  },
  {
   "cell_type": "code",
   "execution_count": 192,
   "id": "cathedral-hometown",
   "metadata": {},
   "outputs": [
    {
     "name": "stdout",
     "output_type": "stream",
     "text": [
      "758330.0 1000000.0\n",
      "22700.0 1000000.0\n",
      "597750.0 1000000.0\n"
     ]
    },
    {
     "data": {
      "text/plain": [
       "array([[ 758330., 1000000.],\n",
       "       [  22700., 1000000.],\n",
       "       [ 597750., 1000000.]])"
      ]
     },
     "execution_count": 192,
     "metadata": {},
     "output_type": "execute_result"
    }
   ],
   "source": [
    "# w_new=np.array((3,2))\n",
    "for i in range(len(weights)):\n",
    "    num,den = subtraction(weights[i][0], weights[i][1], inp_res[i][0],inp_res[i][1])\n",
    "    print(num,den)\n",
    "    weights[i][0]= num\n",
    "    weights[i][1] =den\n",
    "weights"
   ]
  },
  {
   "cell_type": "code",
   "execution_count": 193,
   "id": "earlier-cuisine",
   "metadata": {},
   "outputs": [
    {
     "data": {
      "text/plain": [
       "0.0"
      ]
     },
     "execution_count": 193,
     "metadata": {},
     "output_type": "execute_result"
    }
   ],
   "source": [
    "l_res[0][0]/l_res[0][1]"
   ]
  },
  {
   "cell_type": "code",
   "execution_count": 194,
   "id": "royal-sessions",
   "metadata": {},
   "outputs": [
    {
     "name": "stdout",
     "output_type": "stream",
     "text": [
      "[[0.e+00 1.e+10]\n",
      " [0.e+00 1.e+10]\n",
      " [0.e+00 1.e+10]\n",
      " [0.e+00 1.e+10]\n",
      " [0.e+00 1.e+10]\n",
      " [0.e+00 1.e+10]\n",
      " [0.e+00 1.e+10]]\n"
     ]
    }
   ],
   "source": [
    "\n",
    "#compute lr * l_res\n",
    "for i in range(l_res.shape[0]):\n",
    "    l_res[i][0] = l_res[i][0]*lr[0]\n",
    "    l_res[i][1] = l_res[i][1]*lr[1]\n",
    "#     l_res[i][0] = l_res[i][0]/l_res[i][1])*1000000)\n",
    "#     l_res[i][1] = 1000000\n",
    "print(l_res)\n",
    "\n",
    "\n"
   ]
  },
  {
   "cell_type": "code",
   "execution_count": 188,
   "id": "hollow-jersey",
   "metadata": {},
   "outputs": [
    {
     "ename": "KeyboardInterrupt",
     "evalue": "",
     "output_type": "error",
     "traceback": [
      "\u001b[1;31m---------------------------------------------------------------------------\u001b[0m",
      "\u001b[1;31mKeyboardInterrupt\u001b[0m                         Traceback (most recent call last)",
      "\u001b[1;32m<ipython-input-188-adc21842a7ec>\u001b[0m in \u001b[0;36m<module>\u001b[1;34m\u001b[0m\n\u001b[0;32m      1\u001b[0m \u001b[1;32mfor\u001b[0m \u001b[0mi\u001b[0m \u001b[1;32min\u001b[0m \u001b[0mrange\u001b[0m\u001b[1;33m(\u001b[0m\u001b[0mres\u001b[0m\u001b[1;33m.\u001b[0m\u001b[0mshape\u001b[0m\u001b[1;33m[\u001b[0m\u001b[1;36m0\u001b[0m\u001b[1;33m]\u001b[0m\u001b[1;33m)\u001b[0m\u001b[1;33m:\u001b[0m\u001b[1;33m\u001b[0m\u001b[1;33m\u001b[0m\u001b[0m\n\u001b[1;32m----> 2\u001b[1;33m     \u001b[0mnum\u001b[0m\u001b[1;33m,\u001b[0m\u001b[0mden\u001b[0m \u001b[1;33m=\u001b[0m \u001b[0msubtraction\u001b[0m\u001b[1;33m(\u001b[0m\u001b[0mbias\u001b[0m\u001b[1;33m[\u001b[0m\u001b[1;36m0\u001b[0m\u001b[1;33m]\u001b[0m\u001b[1;33m,\u001b[0m\u001b[0mbias\u001b[0m\u001b[1;33m[\u001b[0m\u001b[1;36m1\u001b[0m\u001b[1;33m]\u001b[0m\u001b[1;33m,\u001b[0m \u001b[0ml_res\u001b[0m\u001b[1;33m[\u001b[0m\u001b[0mi\u001b[0m\u001b[1;33m]\u001b[0m\u001b[1;33m[\u001b[0m\u001b[1;36m0\u001b[0m\u001b[1;33m]\u001b[0m\u001b[1;33m,\u001b[0m\u001b[0ml_res\u001b[0m\u001b[1;33m[\u001b[0m\u001b[0mi\u001b[0m\u001b[1;33m]\u001b[0m\u001b[1;33m[\u001b[0m\u001b[1;36m1\u001b[0m\u001b[1;33m]\u001b[0m\u001b[1;33m)\u001b[0m\u001b[1;33m\u001b[0m\u001b[1;33m\u001b[0m\u001b[0m\n\u001b[0m\u001b[0;32m      3\u001b[0m     \u001b[0mbias\u001b[0m\u001b[1;33m[\u001b[0m\u001b[1;36m0\u001b[0m\u001b[1;33m]\u001b[0m \u001b[1;33m=\u001b[0m \u001b[0mnum\u001b[0m\u001b[1;33m\u001b[0m\u001b[1;33m\u001b[0m\u001b[0m\n\u001b[0;32m      4\u001b[0m     \u001b[0mbias\u001b[0m\u001b[1;33m[\u001b[0m\u001b[1;36m1\u001b[0m\u001b[1;33m]\u001b[0m \u001b[1;33m=\u001b[0m \u001b[0mden\u001b[0m\u001b[1;33m\u001b[0m\u001b[1;33m\u001b[0m\u001b[0m\n\u001b[0;32m      5\u001b[0m \u001b[0mbias\u001b[0m\u001b[1;33m\u001b[0m\u001b[1;33m\u001b[0m\u001b[0m\n",
      "\u001b[1;32m<ipython-input-166-60fe3b81b6ef>\u001b[0m in \u001b[0;36msubtraction\u001b[1;34m(a, b, c, d)\u001b[0m\n\u001b[0;32m      1\u001b[0m \u001b[1;32mdef\u001b[0m \u001b[0msubtraction\u001b[0m\u001b[1;33m(\u001b[0m\u001b[0ma\u001b[0m\u001b[1;33m,\u001b[0m\u001b[0mb\u001b[0m\u001b[1;33m,\u001b[0m\u001b[0mc\u001b[0m\u001b[1;33m,\u001b[0m\u001b[0md\u001b[0m\u001b[1;33m)\u001b[0m\u001b[1;33m:\u001b[0m\u001b[1;33m\u001b[0m\u001b[1;33m\u001b[0m\u001b[0m\n\u001b[1;32m----> 2\u001b[1;33m     \u001b[0mden\u001b[0m \u001b[1;33m=\u001b[0m \u001b[0mcompute_lcm\u001b[0m\u001b[1;33m(\u001b[0m\u001b[0mb\u001b[0m\u001b[1;33m,\u001b[0m\u001b[0md\u001b[0m\u001b[1;33m)\u001b[0m\u001b[1;33m\u001b[0m\u001b[1;33m\u001b[0m\u001b[0m\n\u001b[0m\u001b[0;32m      3\u001b[0m \u001b[1;31m#     print(\"lcm is \",den)\u001b[0m\u001b[1;33m\u001b[0m\u001b[1;33m\u001b[0m\u001b[1;33m\u001b[0m\u001b[0m\n\u001b[0;32m      4\u001b[0m     \u001b[0mnum\u001b[0m \u001b[1;33m=\u001b[0m \u001b[1;33m(\u001b[0m\u001b[1;33m(\u001b[0m\u001b[0mden\u001b[0m\u001b[1;33m/\u001b[0m\u001b[0mb\u001b[0m\u001b[1;33m)\u001b[0m\u001b[1;33m*\u001b[0m\u001b[0ma\u001b[0m\u001b[1;33m)\u001b[0m \u001b[1;33m-\u001b[0m \u001b[1;33m(\u001b[0m\u001b[1;33m(\u001b[0m\u001b[0mden\u001b[0m\u001b[1;33m/\u001b[0m\u001b[0md\u001b[0m\u001b[1;33m)\u001b[0m\u001b[1;33m*\u001b[0m\u001b[0mc\u001b[0m\u001b[1;33m)\u001b[0m\u001b[1;33m\u001b[0m\u001b[1;33m\u001b[0m\u001b[0m\n\u001b[0;32m      5\u001b[0m     \u001b[1;32mreturn\u001b[0m \u001b[0mnum\u001b[0m\u001b[1;33m,\u001b[0m\u001b[0mden\u001b[0m\u001b[1;33m\u001b[0m\u001b[1;33m\u001b[0m\u001b[0m\n",
      "\u001b[1;32m<ipython-input-162-da7ba5e8e76d>\u001b[0m in \u001b[0;36mcompute_lcm\u001b[1;34m(x, y)\u001b[0m\n\u001b[0;32m     10\u001b[0m            \u001b[0mlcm\u001b[0m \u001b[1;33m=\u001b[0m \u001b[0mgreater\u001b[0m\u001b[1;33m\u001b[0m\u001b[1;33m\u001b[0m\u001b[0m\n\u001b[0;32m     11\u001b[0m            \u001b[1;32mbreak\u001b[0m\u001b[1;33m\u001b[0m\u001b[1;33m\u001b[0m\u001b[0m\n\u001b[1;32m---> 12\u001b[1;33m        \u001b[0mgreater\u001b[0m \u001b[1;33m+=\u001b[0m \u001b[1;36m1\u001b[0m\u001b[1;33m\u001b[0m\u001b[1;33m\u001b[0m\u001b[0m\n\u001b[0m\u001b[0;32m     13\u001b[0m    \u001b[1;32mreturn\u001b[0m \u001b[0mlcm\u001b[0m\u001b[1;33m\u001b[0m\u001b[1;33m\u001b[0m\u001b[0m\n",
      "\u001b[1;31mKeyboardInterrupt\u001b[0m: "
     ]
    }
   ],
   "source": [
    "for i in range(res.shape[0]):\n",
    "    num,den = subtraction(bias[0],bias[1], l_res[i][0],l_res[i][1])\n",
    "    bias[0] = num\n",
    "    bias[1] = den\n",
    "bias"
   ]
  },
  {
   "cell_type": "code",
   "execution_count": 182,
   "id": "appropriate-tunnel",
   "metadata": {},
   "outputs": [],
   "source": [
    "# inputs = input_set.T\n",
    "# weights = weights - lr*np.dot(inputs, SL1)\n",
    "    \n",
    "# for num in SL1:\n",
    "#     bias = bias - lr*num\n",
    "# print(bias)\n",
    "# print(weights)\n",
    "\n",
    "#weights are ending up being negative, need to discuss resolution on this."
   ]
  },
  {
   "cell_type": "code",
   "execution_count": 144,
   "id": "exterior-times",
   "metadata": {},
   "outputs": [],
   "source": [
    "# # train ANN model and this accumulation of earlier step\n",
    "# for epoch in range(10):\n",
    "#     inputs = input_set  # set aside the original input\n",
    "#     XW = np.dot(inputs, weights)+ bias  # dot product of input and add bias\n",
    "#     #     print(\"printing dot product\",XW)\n",
    "# #     z = sigmoid(XW)  #sigmoid activation function\n",
    "#     z=np.zeros([7,1])\n",
    "#     for i in range(7):\n",
    "#         a = sigmoidfrac(XW[i])\n",
    "#         z[i] = a\n",
    "#     print (\"sigmoid output is:\",z )\n",
    "#     print (\"sigmoid output is:\",z )\n",
    "#     error = z - labels  #backprop step1\n",
    "#     print (\"error is \",error)\n",
    "#     print(\"error sum is\",error.sum())   #backpro step 2\n",
    "#     dcost = error\n",
    "#     dpred = sigmoid_derivative(z)\n",
    "#     print(\"sigmoid derivative is \",dpred)\n",
    "#     z_del = dcost * dpred\n",
    "#     inputs = input_set.T\n",
    "#     weights = weights - lr*np.dot(inputs, z_del)\n",
    "    \n",
    "#     for num in z_del:\n",
    "#         bias = bias - lr*num"
   ]
  },
  {
   "cell_type": "code",
   "execution_count": 145,
   "id": "administrative-corporation",
   "metadata": {},
   "outputs": [
    {
     "name": "stdout",
     "output_type": "stream",
     "text": [
      "(3, 7)\n",
      "(3, 2)\n"
     ]
    }
   ],
   "source": [
    "print(inputs.shape)\n",
    "print(weights.shape)\n"
   ]
  },
  {
   "cell_type": "markdown",
   "id": "sudden-precipitation",
   "metadata": {},
   "source": [
    "# Perform Prediction"
   ]
  },
  {
   "cell_type": "code",
   "execution_count": 146,
   "id": "distinguished-ferry",
   "metadata": {},
   "outputs": [
    {
     "name": "stdout",
     "output_type": "stream",
     "text": [
      "(3,)\n",
      "(2,)\n",
      "(3, 2)\n",
      "[29187187. 60010000.]\n"
     ]
    }
   ],
   "source": [
    "\n",
    "single_pt = np.array([30,20,10])\n",
    "input1 = np.dot(single_pt, weights) + bias\n",
    "print(single_pt.shape)\n",
    "print(input1.shape)\n",
    "print(weights.shape)\n",
    "print(input1)\n",
    "# num,den = sigmoidfrac()\n",
    "# print(num,den)"
   ]
  },
  {
   "cell_type": "code",
   "execution_count": 147,
   "id": "intense-integer",
   "metadata": {},
   "outputs": [
    {
     "ename": "TypeError",
     "evalue": "sigmoidfrac() missing 1 required positional argument: 'y'",
     "output_type": "error",
     "traceback": [
      "\u001b[1;31m---------------------------------------------------------------------------\u001b[0m",
      "\u001b[1;31mTypeError\u001b[0m                                 Traceback (most recent call last)",
      "\u001b[1;32m<ipython-input-147-e30d2da431e4>\u001b[0m in \u001b[0;36m<module>\u001b[1;34m\u001b[0m\n\u001b[0;32m      1\u001b[0m \u001b[0msingle_pt\u001b[0m \u001b[1;33m=\u001b[0m \u001b[0mnp\u001b[0m\u001b[1;33m.\u001b[0m\u001b[0marray\u001b[0m\u001b[1;33m(\u001b[0m\u001b[1;33m[\u001b[0m\u001b[1;36m30\u001b[0m\u001b[1;33m,\u001b[0m\u001b[1;36m30\u001b[0m\u001b[1;33m,\u001b[0m\u001b[1;36m20\u001b[0m\u001b[1;33m]\u001b[0m\u001b[1;33m)\u001b[0m\u001b[1;33m\u001b[0m\u001b[1;33m\u001b[0m\u001b[0m\n\u001b[1;32m----> 2\u001b[1;33m \u001b[0mnum1\u001b[0m\u001b[1;33m,\u001b[0m\u001b[0mden1\u001b[0m \u001b[1;33m=\u001b[0m \u001b[0msigmoidfrac\u001b[0m\u001b[1;33m(\u001b[0m\u001b[0minput1\u001b[0m\u001b[1;33m[\u001b[0m\u001b[1;36m0\u001b[0m\u001b[1;33m]\u001b[0m\u001b[1;33m)\u001b[0m\u001b[1;33m\u001b[0m\u001b[1;33m\u001b[0m\u001b[0m\n\u001b[0m\u001b[0;32m      3\u001b[0m \u001b[0mnum2\u001b[0m\u001b[1;33m,\u001b[0m\u001b[0mden2\u001b[0m \u001b[1;33m=\u001b[0m \u001b[0msigmoidfrac\u001b[0m\u001b[1;33m(\u001b[0m\u001b[0minput1\u001b[0m\u001b[1;33m[\u001b[0m\u001b[1;36m1\u001b[0m\u001b[1;33m]\u001b[0m\u001b[1;33m)\u001b[0m\u001b[1;33m\u001b[0m\u001b[1;33m\u001b[0m\u001b[0m\n\u001b[0;32m      4\u001b[0m \u001b[1;33m\u001b[0m\u001b[0m\n\u001b[0;32m      5\u001b[0m \u001b[0mprint\u001b[0m\u001b[1;33m(\u001b[0m\u001b[0mnum1\u001b[0m\u001b[1;33m,\u001b[0m\u001b[0mden1\u001b[0m\u001b[1;33m)\u001b[0m\u001b[1;33m\u001b[0m\u001b[1;33m\u001b[0m\u001b[0m\n",
      "\u001b[1;31mTypeError\u001b[0m: sigmoidfrac() missing 1 required positional argument: 'y'"
     ]
    }
   ],
   "source": [
    "single_pt = np.array([30,30,20])\n",
    "num1,den1 = sigmoidfrac(input1[0])\n",
    "num2,den2 = sigmoidfrac(input1[1])\n",
    "\n",
    "print(num1,den1)\n",
    "print(num2,den2)"
   ]
  },
  {
   "cell_type": "code",
   "execution_count": 148,
   "id": "complex-desire",
   "metadata": {},
   "outputs": [
    {
     "ename": "TypeError",
     "evalue": "sigmoidfrac() missing 1 required positional argument: 'y'",
     "output_type": "error",
     "traceback": [
      "\u001b[1;31m---------------------------------------------------------------------------\u001b[0m",
      "\u001b[1;31mTypeError\u001b[0m                                 Traceback (most recent call last)",
      "\u001b[1;32m<ipython-input-148-bac8f94d3934>\u001b[0m in \u001b[0;36m<module>\u001b[1;34m\u001b[0m\n\u001b[0;32m      1\u001b[0m \u001b[0msingle_pt\u001b[0m \u001b[1;33m=\u001b[0m \u001b[0mnp\u001b[0m\u001b[1;33m.\u001b[0m\u001b[0marray\u001b[0m\u001b[1;33m(\u001b[0m\u001b[1;33m[\u001b[0m\u001b[1;36m30\u001b[0m\u001b[1;33m,\u001b[0m\u001b[1;36m30\u001b[0m\u001b[1;33m,\u001b[0m\u001b[1;36m20\u001b[0m\u001b[1;33m]\u001b[0m\u001b[1;33m)\u001b[0m\u001b[1;33m\u001b[0m\u001b[1;33m\u001b[0m\u001b[0m\n\u001b[1;32m----> 2\u001b[1;33m \u001b[0mnum\u001b[0m\u001b[1;33m,\u001b[0m\u001b[0mden\u001b[0m \u001b[1;33m=\u001b[0m \u001b[0msigmoidfrac\u001b[0m\u001b[1;33m(\u001b[0m\u001b[0mnp\u001b[0m\u001b[1;33m.\u001b[0m\u001b[0mdot\u001b[0m\u001b[1;33m(\u001b[0m\u001b[0msingle_pt\u001b[0m\u001b[1;33m,\u001b[0m \u001b[0mweights\u001b[0m\u001b[1;33m)\u001b[0m \u001b[1;33m+\u001b[0m \u001b[0mbias\u001b[0m\u001b[1;33m)\u001b[0m\u001b[1;33m\u001b[0m\u001b[1;33m\u001b[0m\u001b[0m\n\u001b[0m\u001b[0;32m      3\u001b[0m \u001b[0mprint\u001b[0m\u001b[1;33m(\u001b[0m\u001b[0mnum\u001b[0m\u001b[1;33m,\u001b[0m\u001b[0mden\u001b[0m\u001b[1;33m)\u001b[0m\u001b[1;33m\u001b[0m\u001b[1;33m\u001b[0m\u001b[0m\n",
      "\u001b[1;31mTypeError\u001b[0m: sigmoidfrac() missing 1 required positional argument: 'y'"
     ]
    }
   ],
   "source": [
    "single_pt = np.array([30,30,20])\n",
    "num,den = sigmoidfrac(np.dot(single_pt, weights) + bias)\n",
    "print(num,den)"
   ]
  },
  {
   "cell_type": "code",
   "execution_count": null,
   "id": "allied-watch",
   "metadata": {},
   "outputs": [],
   "source": []
  }
 ],
 "metadata": {
  "kernelspec": {
   "display_name": "Python 3",
   "language": "python",
   "name": "python3"
  },
  "language_info": {
   "codemirror_mode": {
    "name": "ipython",
    "version": 3
   },
   "file_extension": ".py",
   "mimetype": "text/x-python",
   "name": "python",
   "nbconvert_exporter": "python",
   "pygments_lexer": "ipython3",
   "version": "3.9.2"
  }
 },
 "nbformat": 4,
 "nbformat_minor": 5
}
